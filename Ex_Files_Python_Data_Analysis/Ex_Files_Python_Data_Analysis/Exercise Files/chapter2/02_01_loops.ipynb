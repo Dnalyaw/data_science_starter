{
 "cells": [
  {
   "cell_type": "markdown",
   "metadata": {},
   "source": [
    "# 02_01: Warmup with Python Loops"
   ]
  },
  {
   "cell_type": "code",
   "execution_count": 5,
   "metadata": {},
   "outputs": [],
   "source": [
    "import math\n",
    "import collections\n",
    "\n",
    "import numpy as np\n",
    "import pandas as pd\n",
    "import matplotlib.pyplot as pp\n",
    "\n",
    "%matplotlib inline   "
   ]
  },
  {
   "cell_type": "code",
   "execution_count": 1,
   "metadata": {},
   "outputs": [
    {
     "name": "stdout",
     "output_type": "stream",
     "text": [
      "0\n",
      "1\n",
      "2\n",
      "3\n",
      "4\n",
      "5\n",
      "6\n",
      "7\n",
      "8\n",
      "9\n"
     ]
    }
   ],
   "source": [
    "for i in range(0, 10):\n",
    "    print(i)"
   ]
  },
  {
   "cell_type": "code",
   "execution_count": 2,
   "metadata": {},
   "outputs": [
    {
     "name": "stdout",
     "output_type": "stream",
     "text": [
      "0\n",
      "1\n",
      "2\n",
      "3\n",
      "4\n"
     ]
    }
   ],
   "source": [
    "for i in range(5):\n",
    "    print(i)"
   ]
  },
  {
   "cell_type": "code",
   "execution_count": 3,
   "metadata": {},
   "outputs": [
    {
     "name": "stdout",
     "output_type": "stream",
     "text": [
      "0\n",
      "2\n",
      "4\n",
      "6\n",
      "8\n"
     ]
    }
   ],
   "source": [
    "for i in range(0, 10, 2):\n",
    "    print(i)"
   ]
  },
  {
   "cell_type": "code",
   "execution_count": 9,
   "metadata": {},
   "outputs": [],
   "source": [
    "# loop over all possible counts for each coin (summing up to <= 1$);\n",
    "# if the total amount is exactly $1, add current counts to \"combinations\"\n",
    "\n",
    "combinations = []\n",
    "\n",
    "for count_100 in range(1+1):\n",
    "    for count_50 in range(2+1):\n",
    "        for count_25 in range(4+1):\n",
    "            for count_10 in range(10+1):\n",
    "                for count_5 in range(20+1):\n",
    "                    for count_1 in range(100+1):\n",
    "                        if 100*count_100 + 50*count_50 + 25*count_25 + 10*count_10 + 5*count_5 + count_1 == 100:\n",
    "                            combinations.append([count_100, count_50, count_25, count_10, count_5, count_1])"
   ]
  },
  {
   "cell_type": "code",
   "execution_count": 10,
   "metadata": {},
   "outputs": [
    {
     "data": {
      "text/plain": [
       "[[0, 0, 0, 0, 0, 100],\n",
       " [0, 0, 0, 0, 1, 95],\n",
       " [0, 0, 0, 0, 2, 90],\n",
       " [0, 0, 0, 0, 3, 85],\n",
       " [0, 0, 0, 0, 4, 80],\n",
       " [0, 0, 0, 0, 5, 75],\n",
       " [0, 0, 0, 0, 6, 70],\n",
       " [0, 0, 0, 0, 7, 65],\n",
       " [0, 0, 0, 0, 8, 60],\n",
       " [0, 0, 0, 0, 9, 55],\n",
       " [0, 0, 0, 0, 10, 50],\n",
       " [0, 0, 0, 0, 11, 45],\n",
       " [0, 0, 0, 0, 12, 40],\n",
       " [0, 0, 0, 0, 13, 35],\n",
       " [0, 0, 0, 0, 14, 30],\n",
       " [0, 0, 0, 0, 15, 25],\n",
       " [0, 0, 0, 0, 16, 20],\n",
       " [0, 0, 0, 0, 17, 15],\n",
       " [0, 0, 0, 0, 18, 10],\n",
       " [0, 0, 0, 0, 19, 5],\n",
       " [0, 0, 0, 0, 20, 0],\n",
       " [0, 0, 0, 1, 0, 90],\n",
       " [0, 0, 0, 1, 1, 85],\n",
       " [0, 0, 0, 1, 2, 80],\n",
       " [0, 0, 0, 1, 3, 75],\n",
       " [0, 0, 0, 1, 4, 70],\n",
       " [0, 0, 0, 1, 5, 65],\n",
       " [0, 0, 0, 1, 6, 60],\n",
       " [0, 0, 0, 1, 7, 55],\n",
       " [0, 0, 0, 1, 8, 50],\n",
       " [0, 0, 0, 1, 9, 45],\n",
       " [0, 0, 0, 1, 10, 40],\n",
       " [0, 0, 0, 1, 11, 35],\n",
       " [0, 0, 0, 1, 12, 30],\n",
       " [0, 0, 0, 1, 13, 25],\n",
       " [0, 0, 0, 1, 14, 20],\n",
       " [0, 0, 0, 1, 15, 15],\n",
       " [0, 0, 0, 1, 16, 10],\n",
       " [0, 0, 0, 1, 17, 5],\n",
       " [0, 0, 0, 1, 18, 0],\n",
       " [0, 0, 0, 2, 0, 80],\n",
       " [0, 0, 0, 2, 1, 75],\n",
       " [0, 0, 0, 2, 2, 70],\n",
       " [0, 0, 0, 2, 3, 65],\n",
       " [0, 0, 0, 2, 4, 60],\n",
       " [0, 0, 0, 2, 5, 55],\n",
       " [0, 0, 0, 2, 6, 50],\n",
       " [0, 0, 0, 2, 7, 45],\n",
       " [0, 0, 0, 2, 8, 40],\n",
       " [0, 0, 0, 2, 9, 35],\n",
       " [0, 0, 0, 2, 10, 30],\n",
       " [0, 0, 0, 2, 11, 25],\n",
       " [0, 0, 0, 2, 12, 20],\n",
       " [0, 0, 0, 2, 13, 15],\n",
       " [0, 0, 0, 2, 14, 10],\n",
       " [0, 0, 0, 2, 15, 5],\n",
       " [0, 0, 0, 2, 16, 0],\n",
       " [0, 0, 0, 3, 0, 70],\n",
       " [0, 0, 0, 3, 1, 65],\n",
       " [0, 0, 0, 3, 2, 60],\n",
       " [0, 0, 0, 3, 3, 55],\n",
       " [0, 0, 0, 3, 4, 50],\n",
       " [0, 0, 0, 3, 5, 45],\n",
       " [0, 0, 0, 3, 6, 40],\n",
       " [0, 0, 0, 3, 7, 35],\n",
       " [0, 0, 0, 3, 8, 30],\n",
       " [0, 0, 0, 3, 9, 25],\n",
       " [0, 0, 0, 3, 10, 20],\n",
       " [0, 0, 0, 3, 11, 15],\n",
       " [0, 0, 0, 3, 12, 10],\n",
       " [0, 0, 0, 3, 13, 5],\n",
       " [0, 0, 0, 3, 14, 0],\n",
       " [0, 0, 0, 4, 0, 60],\n",
       " [0, 0, 0, 4, 1, 55],\n",
       " [0, 0, 0, 4, 2, 50],\n",
       " [0, 0, 0, 4, 3, 45],\n",
       " [0, 0, 0, 4, 4, 40],\n",
       " [0, 0, 0, 4, 5, 35],\n",
       " [0, 0, 0, 4, 6, 30],\n",
       " [0, 0, 0, 4, 7, 25],\n",
       " [0, 0, 0, 4, 8, 20],\n",
       " [0, 0, 0, 4, 9, 15],\n",
       " [0, 0, 0, 4, 10, 10],\n",
       " [0, 0, 0, 4, 11, 5],\n",
       " [0, 0, 0, 4, 12, 0],\n",
       " [0, 0, 0, 5, 0, 50],\n",
       " [0, 0, 0, 5, 1, 45],\n",
       " [0, 0, 0, 5, 2, 40],\n",
       " [0, 0, 0, 5, 3, 35],\n",
       " [0, 0, 0, 5, 4, 30],\n",
       " [0, 0, 0, 5, 5, 25],\n",
       " [0, 0, 0, 5, 6, 20],\n",
       " [0, 0, 0, 5, 7, 15],\n",
       " [0, 0, 0, 5, 8, 10],\n",
       " [0, 0, 0, 5, 9, 5],\n",
       " [0, 0, 0, 5, 10, 0],\n",
       " [0, 0, 0, 6, 0, 40],\n",
       " [0, 0, 0, 6, 1, 35],\n",
       " [0, 0, 0, 6, 2, 30],\n",
       " [0, 0, 0, 6, 3, 25],\n",
       " [0, 0, 0, 6, 4, 20],\n",
       " [0, 0, 0, 6, 5, 15],\n",
       " [0, 0, 0, 6, 6, 10],\n",
       " [0, 0, 0, 6, 7, 5],\n",
       " [0, 0, 0, 6, 8, 0],\n",
       " [0, 0, 0, 7, 0, 30],\n",
       " [0, 0, 0, 7, 1, 25],\n",
       " [0, 0, 0, 7, 2, 20],\n",
       " [0, 0, 0, 7, 3, 15],\n",
       " [0, 0, 0, 7, 4, 10],\n",
       " [0, 0, 0, 7, 5, 5],\n",
       " [0, 0, 0, 7, 6, 0],\n",
       " [0, 0, 0, 8, 0, 20],\n",
       " [0, 0, 0, 8, 1, 15],\n",
       " [0, 0, 0, 8, 2, 10],\n",
       " [0, 0, 0, 8, 3, 5],\n",
       " [0, 0, 0, 8, 4, 0],\n",
       " [0, 0, 0, 9, 0, 10],\n",
       " [0, 0, 0, 9, 1, 5],\n",
       " [0, 0, 0, 9, 2, 0],\n",
       " [0, 0, 0, 10, 0, 0],\n",
       " [0, 0, 1, 0, 0, 75],\n",
       " [0, 0, 1, 0, 1, 70],\n",
       " [0, 0, 1, 0, 2, 65],\n",
       " [0, 0, 1, 0, 3, 60],\n",
       " [0, 0, 1, 0, 4, 55],\n",
       " [0, 0, 1, 0, 5, 50],\n",
       " [0, 0, 1, 0, 6, 45],\n",
       " [0, 0, 1, 0, 7, 40],\n",
       " [0, 0, 1, 0, 8, 35],\n",
       " [0, 0, 1, 0, 9, 30],\n",
       " [0, 0, 1, 0, 10, 25],\n",
       " [0, 0, 1, 0, 11, 20],\n",
       " [0, 0, 1, 0, 12, 15],\n",
       " [0, 0, 1, 0, 13, 10],\n",
       " [0, 0, 1, 0, 14, 5],\n",
       " [0, 0, 1, 0, 15, 0],\n",
       " [0, 0, 1, 1, 0, 65],\n",
       " [0, 0, 1, 1, 1, 60],\n",
       " [0, 0, 1, 1, 2, 55],\n",
       " [0, 0, 1, 1, 3, 50],\n",
       " [0, 0, 1, 1, 4, 45],\n",
       " [0, 0, 1, 1, 5, 40],\n",
       " [0, 0, 1, 1, 6, 35],\n",
       " [0, 0, 1, 1, 7, 30],\n",
       " [0, 0, 1, 1, 8, 25],\n",
       " [0, 0, 1, 1, 9, 20],\n",
       " [0, 0, 1, 1, 10, 15],\n",
       " [0, 0, 1, 1, 11, 10],\n",
       " [0, 0, 1, 1, 12, 5],\n",
       " [0, 0, 1, 1, 13, 0],\n",
       " [0, 0, 1, 2, 0, 55],\n",
       " [0, 0, 1, 2, 1, 50],\n",
       " [0, 0, 1, 2, 2, 45],\n",
       " [0, 0, 1, 2, 3, 40],\n",
       " [0, 0, 1, 2, 4, 35],\n",
       " [0, 0, 1, 2, 5, 30],\n",
       " [0, 0, 1, 2, 6, 25],\n",
       " [0, 0, 1, 2, 7, 20],\n",
       " [0, 0, 1, 2, 8, 15],\n",
       " [0, 0, 1, 2, 9, 10],\n",
       " [0, 0, 1, 2, 10, 5],\n",
       " [0, 0, 1, 2, 11, 0],\n",
       " [0, 0, 1, 3, 0, 45],\n",
       " [0, 0, 1, 3, 1, 40],\n",
       " [0, 0, 1, 3, 2, 35],\n",
       " [0, 0, 1, 3, 3, 30],\n",
       " [0, 0, 1, 3, 4, 25],\n",
       " [0, 0, 1, 3, 5, 20],\n",
       " [0, 0, 1, 3, 6, 15],\n",
       " [0, 0, 1, 3, 7, 10],\n",
       " [0, 0, 1, 3, 8, 5],\n",
       " [0, 0, 1, 3, 9, 0],\n",
       " [0, 0, 1, 4, 0, 35],\n",
       " [0, 0, 1, 4, 1, 30],\n",
       " [0, 0, 1, 4, 2, 25],\n",
       " [0, 0, 1, 4, 3, 20],\n",
       " [0, 0, 1, 4, 4, 15],\n",
       " [0, 0, 1, 4, 5, 10],\n",
       " [0, 0, 1, 4, 6, 5],\n",
       " [0, 0, 1, 4, 7, 0],\n",
       " [0, 0, 1, 5, 0, 25],\n",
       " [0, 0, 1, 5, 1, 20],\n",
       " [0, 0, 1, 5, 2, 15],\n",
       " [0, 0, 1, 5, 3, 10],\n",
       " [0, 0, 1, 5, 4, 5],\n",
       " [0, 0, 1, 5, 5, 0],\n",
       " [0, 0, 1, 6, 0, 15],\n",
       " [0, 0, 1, 6, 1, 10],\n",
       " [0, 0, 1, 6, 2, 5],\n",
       " [0, 0, 1, 6, 3, 0],\n",
       " [0, 0, 1, 7, 0, 5],\n",
       " [0, 0, 1, 7, 1, 0],\n",
       " [0, 0, 2, 0, 0, 50],\n",
       " [0, 0, 2, 0, 1, 45],\n",
       " [0, 0, 2, 0, 2, 40],\n",
       " [0, 0, 2, 0, 3, 35],\n",
       " [0, 0, 2, 0, 4, 30],\n",
       " [0, 0, 2, 0, 5, 25],\n",
       " [0, 0, 2, 0, 6, 20],\n",
       " [0, 0, 2, 0, 7, 15],\n",
       " [0, 0, 2, 0, 8, 10],\n",
       " [0, 0, 2, 0, 9, 5],\n",
       " [0, 0, 2, 0, 10, 0],\n",
       " [0, 0, 2, 1, 0, 40],\n",
       " [0, 0, 2, 1, 1, 35],\n",
       " [0, 0, 2, 1, 2, 30],\n",
       " [0, 0, 2, 1, 3, 25],\n",
       " [0, 0, 2, 1, 4, 20],\n",
       " [0, 0, 2, 1, 5, 15],\n",
       " [0, 0, 2, 1, 6, 10],\n",
       " [0, 0, 2, 1, 7, 5],\n",
       " [0, 0, 2, 1, 8, 0],\n",
       " [0, 0, 2, 2, 0, 30],\n",
       " [0, 0, 2, 2, 1, 25],\n",
       " [0, 0, 2, 2, 2, 20],\n",
       " [0, 0, 2, 2, 3, 15],\n",
       " [0, 0, 2, 2, 4, 10],\n",
       " [0, 0, 2, 2, 5, 5],\n",
       " [0, 0, 2, 2, 6, 0],\n",
       " [0, 0, 2, 3, 0, 20],\n",
       " [0, 0, 2, 3, 1, 15],\n",
       " [0, 0, 2, 3, 2, 10],\n",
       " [0, 0, 2, 3, 3, 5],\n",
       " [0, 0, 2, 3, 4, 0],\n",
       " [0, 0, 2, 4, 0, 10],\n",
       " [0, 0, 2, 4, 1, 5],\n",
       " [0, 0, 2, 4, 2, 0],\n",
       " [0, 0, 2, 5, 0, 0],\n",
       " [0, 0, 3, 0, 0, 25],\n",
       " [0, 0, 3, 0, 1, 20],\n",
       " [0, 0, 3, 0, 2, 15],\n",
       " [0, 0, 3, 0, 3, 10],\n",
       " [0, 0, 3, 0, 4, 5],\n",
       " [0, 0, 3, 0, 5, 0],\n",
       " [0, 0, 3, 1, 0, 15],\n",
       " [0, 0, 3, 1, 1, 10],\n",
       " [0, 0, 3, 1, 2, 5],\n",
       " [0, 0, 3, 1, 3, 0],\n",
       " [0, 0, 3, 2, 0, 5],\n",
       " [0, 0, 3, 2, 1, 0],\n",
       " [0, 0, 4, 0, 0, 0],\n",
       " [0, 1, 0, 0, 0, 50],\n",
       " [0, 1, 0, 0, 1, 45],\n",
       " [0, 1, 0, 0, 2, 40],\n",
       " [0, 1, 0, 0, 3, 35],\n",
       " [0, 1, 0, 0, 4, 30],\n",
       " [0, 1, 0, 0, 5, 25],\n",
       " [0, 1, 0, 0, 6, 20],\n",
       " [0, 1, 0, 0, 7, 15],\n",
       " [0, 1, 0, 0, 8, 10],\n",
       " [0, 1, 0, 0, 9, 5],\n",
       " [0, 1, 0, 0, 10, 0],\n",
       " [0, 1, 0, 1, 0, 40],\n",
       " [0, 1, 0, 1, 1, 35],\n",
       " [0, 1, 0, 1, 2, 30],\n",
       " [0, 1, 0, 1, 3, 25],\n",
       " [0, 1, 0, 1, 4, 20],\n",
       " [0, 1, 0, 1, 5, 15],\n",
       " [0, 1, 0, 1, 6, 10],\n",
       " [0, 1, 0, 1, 7, 5],\n",
       " [0, 1, 0, 1, 8, 0],\n",
       " [0, 1, 0, 2, 0, 30],\n",
       " [0, 1, 0, 2, 1, 25],\n",
       " [0, 1, 0, 2, 2, 20],\n",
       " [0, 1, 0, 2, 3, 15],\n",
       " [0, 1, 0, 2, 4, 10],\n",
       " [0, 1, 0, 2, 5, 5],\n",
       " [0, 1, 0, 2, 6, 0],\n",
       " [0, 1, 0, 3, 0, 20],\n",
       " [0, 1, 0, 3, 1, 15],\n",
       " [0, 1, 0, 3, 2, 10],\n",
       " [0, 1, 0, 3, 3, 5],\n",
       " [0, 1, 0, 3, 4, 0],\n",
       " [0, 1, 0, 4, 0, 10],\n",
       " [0, 1, 0, 4, 1, 5],\n",
       " [0, 1, 0, 4, 2, 0],\n",
       " [0, 1, 0, 5, 0, 0],\n",
       " [0, 1, 1, 0, 0, 25],\n",
       " [0, 1, 1, 0, 1, 20],\n",
       " [0, 1, 1, 0, 2, 15],\n",
       " [0, 1, 1, 0, 3, 10],\n",
       " [0, 1, 1, 0, 4, 5],\n",
       " [0, 1, 1, 0, 5, 0],\n",
       " [0, 1, 1, 1, 0, 15],\n",
       " [0, 1, 1, 1, 1, 10],\n",
       " [0, 1, 1, 1, 2, 5],\n",
       " [0, 1, 1, 1, 3, 0],\n",
       " [0, 1, 1, 2, 0, 5],\n",
       " [0, 1, 1, 2, 1, 0],\n",
       " [0, 1, 2, 0, 0, 0],\n",
       " [0, 2, 0, 0, 0, 0],\n",
       " [1, 0, 0, 0, 0, 0]]"
      ]
     },
     "execution_count": 10,
     "metadata": {},
     "output_type": "execute_result"
    }
   ],
   "source": [
    "combinations"
   ]
  },
  {
   "cell_type": "code",
   "execution_count": 11,
   "metadata": {},
   "outputs": [
    {
     "data": {
      "text/plain": [
       "293"
      ]
     },
     "execution_count": 11,
     "metadata": {},
     "output_type": "execute_result"
    }
   ],
   "source": [
    "len(combinations)"
   ]
  },
  {
   "cell_type": "code",
   "execution_count": 1,
   "metadata": {},
   "outputs": [
    {
     "name": "stdout",
     "output_type": "stream",
     "text": [
      "0\n",
      "1\n",
      "2\n",
      "3\n",
      "4\n"
     ]
    }
   ],
   "source": [
    "for count_25 in range(4+1):\n",
    "    print(count_25)"
   ]
  },
  {
   "cell_type": "code",
   "execution_count": 2,
   "metadata": {},
   "outputs": [
    {
     "name": "stdout",
     "output_type": "stream",
     "text": [
      "0\n",
      "25\n",
      "50\n",
      "75\n",
      "100\n"
     ]
    }
   ],
   "source": [
    "for amount_25 in range(0, 100+1, 25):\n",
    "    print(amount_25)"
   ]
  },
  {
   "cell_type": "code",
   "execution_count": 4,
   "metadata": {},
   "outputs": [],
   "source": [
    "# loop over all possible $ amount for each coin (summing up to <= 1$);\n",
    "# if the total amount is <= $1, add current amounts to \"combinations_amounts\",\n",
    "# since we can always make up the difference with pennies\n",
    "\n",
    "combinations_amounts = []\n",
    "\n",
    "for amount_100 in range(0, 100+1, 100):\n",
    "    for amount_50 in range(0, 100+1, 50):\n",
    "        for amount_25 in range(0, 100+1, 25):\n",
    "            for amount_10 in range(0, 100+1, 10):\n",
    "                for amount_5 in range(0, 100+1, 5):\n",
    "                    total_so_far = amount_100 + amount_50 + amount_25 + amount_10 + amount_5\n",
    "                    \n",
    "                    if total_so_far <= 100:\n",
    "                        combinations_amounts.append([amount_100, amount_50, amount_25, amount_10, amount_5,\n",
    "                                                     100 - total_so_far])"
   ]
  },
  {
   "cell_type": "code",
   "execution_count": 5,
   "metadata": {},
   "outputs": [
    {
     "data": {
      "text/plain": [
       "[[0, 0, 0, 0, 0, 100],\n",
       " [0, 0, 0, 0, 5, 95],\n",
       " [0, 0, 0, 0, 10, 90],\n",
       " [0, 0, 0, 0, 15, 85],\n",
       " [0, 0, 0, 0, 20, 80],\n",
       " [0, 0, 0, 0, 25, 75],\n",
       " [0, 0, 0, 0, 30, 70],\n",
       " [0, 0, 0, 0, 35, 65],\n",
       " [0, 0, 0, 0, 40, 60],\n",
       " [0, 0, 0, 0, 45, 55],\n",
       " [0, 0, 0, 0, 50, 50],\n",
       " [0, 0, 0, 0, 55, 45],\n",
       " [0, 0, 0, 0, 60, 40],\n",
       " [0, 0, 0, 0, 65, 35],\n",
       " [0, 0, 0, 0, 70, 30],\n",
       " [0, 0, 0, 0, 75, 25],\n",
       " [0, 0, 0, 0, 80, 20],\n",
       " [0, 0, 0, 0, 85, 15],\n",
       " [0, 0, 0, 0, 90, 10],\n",
       " [0, 0, 0, 0, 95, 5],\n",
       " [0, 0, 0, 0, 100, 0],\n",
       " [0, 0, 0, 10, 0, 90],\n",
       " [0, 0, 0, 10, 5, 85],\n",
       " [0, 0, 0, 10, 10, 80],\n",
       " [0, 0, 0, 10, 15, 75],\n",
       " [0, 0, 0, 10, 20, 70],\n",
       " [0, 0, 0, 10, 25, 65],\n",
       " [0, 0, 0, 10, 30, 60],\n",
       " [0, 0, 0, 10, 35, 55],\n",
       " [0, 0, 0, 10, 40, 50],\n",
       " [0, 0, 0, 10, 45, 45],\n",
       " [0, 0, 0, 10, 50, 40],\n",
       " [0, 0, 0, 10, 55, 35],\n",
       " [0, 0, 0, 10, 60, 30],\n",
       " [0, 0, 0, 10, 65, 25],\n",
       " [0, 0, 0, 10, 70, 20],\n",
       " [0, 0, 0, 10, 75, 15],\n",
       " [0, 0, 0, 10, 80, 10],\n",
       " [0, 0, 0, 10, 85, 5],\n",
       " [0, 0, 0, 10, 90, 0],\n",
       " [0, 0, 0, 20, 0, 80],\n",
       " [0, 0, 0, 20, 5, 75],\n",
       " [0, 0, 0, 20, 10, 70],\n",
       " [0, 0, 0, 20, 15, 65],\n",
       " [0, 0, 0, 20, 20, 60],\n",
       " [0, 0, 0, 20, 25, 55],\n",
       " [0, 0, 0, 20, 30, 50],\n",
       " [0, 0, 0, 20, 35, 45],\n",
       " [0, 0, 0, 20, 40, 40],\n",
       " [0, 0, 0, 20, 45, 35],\n",
       " [0, 0, 0, 20, 50, 30],\n",
       " [0, 0, 0, 20, 55, 25],\n",
       " [0, 0, 0, 20, 60, 20],\n",
       " [0, 0, 0, 20, 65, 15],\n",
       " [0, 0, 0, 20, 70, 10],\n",
       " [0, 0, 0, 20, 75, 5],\n",
       " [0, 0, 0, 20, 80, 0],\n",
       " [0, 0, 0, 30, 0, 70],\n",
       " [0, 0, 0, 30, 5, 65],\n",
       " [0, 0, 0, 30, 10, 60],\n",
       " [0, 0, 0, 30, 15, 55],\n",
       " [0, 0, 0, 30, 20, 50],\n",
       " [0, 0, 0, 30, 25, 45],\n",
       " [0, 0, 0, 30, 30, 40],\n",
       " [0, 0, 0, 30, 35, 35],\n",
       " [0, 0, 0, 30, 40, 30],\n",
       " [0, 0, 0, 30, 45, 25],\n",
       " [0, 0, 0, 30, 50, 20],\n",
       " [0, 0, 0, 30, 55, 15],\n",
       " [0, 0, 0, 30, 60, 10],\n",
       " [0, 0, 0, 30, 65, 5],\n",
       " [0, 0, 0, 30, 70, 0],\n",
       " [0, 0, 0, 40, 0, 60],\n",
       " [0, 0, 0, 40, 5, 55],\n",
       " [0, 0, 0, 40, 10, 50],\n",
       " [0, 0, 0, 40, 15, 45],\n",
       " [0, 0, 0, 40, 20, 40],\n",
       " [0, 0, 0, 40, 25, 35],\n",
       " [0, 0, 0, 40, 30, 30],\n",
       " [0, 0, 0, 40, 35, 25],\n",
       " [0, 0, 0, 40, 40, 20],\n",
       " [0, 0, 0, 40, 45, 15],\n",
       " [0, 0, 0, 40, 50, 10],\n",
       " [0, 0, 0, 40, 55, 5],\n",
       " [0, 0, 0, 40, 60, 0],\n",
       " [0, 0, 0, 50, 0, 50],\n",
       " [0, 0, 0, 50, 5, 45],\n",
       " [0, 0, 0, 50, 10, 40],\n",
       " [0, 0, 0, 50, 15, 35],\n",
       " [0, 0, 0, 50, 20, 30],\n",
       " [0, 0, 0, 50, 25, 25],\n",
       " [0, 0, 0, 50, 30, 20],\n",
       " [0, 0, 0, 50, 35, 15],\n",
       " [0, 0, 0, 50, 40, 10],\n",
       " [0, 0, 0, 50, 45, 5],\n",
       " [0, 0, 0, 50, 50, 0],\n",
       " [0, 0, 0, 60, 0, 40],\n",
       " [0, 0, 0, 60, 5, 35],\n",
       " [0, 0, 0, 60, 10, 30],\n",
       " [0, 0, 0, 60, 15, 25],\n",
       " [0, 0, 0, 60, 20, 20],\n",
       " [0, 0, 0, 60, 25, 15],\n",
       " [0, 0, 0, 60, 30, 10],\n",
       " [0, 0, 0, 60, 35, 5],\n",
       " [0, 0, 0, 60, 40, 0],\n",
       " [0, 0, 0, 70, 0, 30],\n",
       " [0, 0, 0, 70, 5, 25],\n",
       " [0, 0, 0, 70, 10, 20],\n",
       " [0, 0, 0, 70, 15, 15],\n",
       " [0, 0, 0, 70, 20, 10],\n",
       " [0, 0, 0, 70, 25, 5],\n",
       " [0, 0, 0, 70, 30, 0],\n",
       " [0, 0, 0, 80, 0, 20],\n",
       " [0, 0, 0, 80, 5, 15],\n",
       " [0, 0, 0, 80, 10, 10],\n",
       " [0, 0, 0, 80, 15, 5],\n",
       " [0, 0, 0, 80, 20, 0],\n",
       " [0, 0, 0, 90, 0, 10],\n",
       " [0, 0, 0, 90, 5, 5],\n",
       " [0, 0, 0, 90, 10, 0],\n",
       " [0, 0, 0, 100, 0, 0],\n",
       " [0, 0, 25, 0, 0, 75],\n",
       " [0, 0, 25, 0, 5, 70],\n",
       " [0, 0, 25, 0, 10, 65],\n",
       " [0, 0, 25, 0, 15, 60],\n",
       " [0, 0, 25, 0, 20, 55],\n",
       " [0, 0, 25, 0, 25, 50],\n",
       " [0, 0, 25, 0, 30, 45],\n",
       " [0, 0, 25, 0, 35, 40],\n",
       " [0, 0, 25, 0, 40, 35],\n",
       " [0, 0, 25, 0, 45, 30],\n",
       " [0, 0, 25, 0, 50, 25],\n",
       " [0, 0, 25, 0, 55, 20],\n",
       " [0, 0, 25, 0, 60, 15],\n",
       " [0, 0, 25, 0, 65, 10],\n",
       " [0, 0, 25, 0, 70, 5],\n",
       " [0, 0, 25, 0, 75, 0],\n",
       " [0, 0, 25, 10, 0, 65],\n",
       " [0, 0, 25, 10, 5, 60],\n",
       " [0, 0, 25, 10, 10, 55],\n",
       " [0, 0, 25, 10, 15, 50],\n",
       " [0, 0, 25, 10, 20, 45],\n",
       " [0, 0, 25, 10, 25, 40],\n",
       " [0, 0, 25, 10, 30, 35],\n",
       " [0, 0, 25, 10, 35, 30],\n",
       " [0, 0, 25, 10, 40, 25],\n",
       " [0, 0, 25, 10, 45, 20],\n",
       " [0, 0, 25, 10, 50, 15],\n",
       " [0, 0, 25, 10, 55, 10],\n",
       " [0, 0, 25, 10, 60, 5],\n",
       " [0, 0, 25, 10, 65, 0],\n",
       " [0, 0, 25, 20, 0, 55],\n",
       " [0, 0, 25, 20, 5, 50],\n",
       " [0, 0, 25, 20, 10, 45],\n",
       " [0, 0, 25, 20, 15, 40],\n",
       " [0, 0, 25, 20, 20, 35],\n",
       " [0, 0, 25, 20, 25, 30],\n",
       " [0, 0, 25, 20, 30, 25],\n",
       " [0, 0, 25, 20, 35, 20],\n",
       " [0, 0, 25, 20, 40, 15],\n",
       " [0, 0, 25, 20, 45, 10],\n",
       " [0, 0, 25, 20, 50, 5],\n",
       " [0, 0, 25, 20, 55, 0],\n",
       " [0, 0, 25, 30, 0, 45],\n",
       " [0, 0, 25, 30, 5, 40],\n",
       " [0, 0, 25, 30, 10, 35],\n",
       " [0, 0, 25, 30, 15, 30],\n",
       " [0, 0, 25, 30, 20, 25],\n",
       " [0, 0, 25, 30, 25, 20],\n",
       " [0, 0, 25, 30, 30, 15],\n",
       " [0, 0, 25, 30, 35, 10],\n",
       " [0, 0, 25, 30, 40, 5],\n",
       " [0, 0, 25, 30, 45, 0],\n",
       " [0, 0, 25, 40, 0, 35],\n",
       " [0, 0, 25, 40, 5, 30],\n",
       " [0, 0, 25, 40, 10, 25],\n",
       " [0, 0, 25, 40, 15, 20],\n",
       " [0, 0, 25, 40, 20, 15],\n",
       " [0, 0, 25, 40, 25, 10],\n",
       " [0, 0, 25, 40, 30, 5],\n",
       " [0, 0, 25, 40, 35, 0],\n",
       " [0, 0, 25, 50, 0, 25],\n",
       " [0, 0, 25, 50, 5, 20],\n",
       " [0, 0, 25, 50, 10, 15],\n",
       " [0, 0, 25, 50, 15, 10],\n",
       " [0, 0, 25, 50, 20, 5],\n",
       " [0, 0, 25, 50, 25, 0],\n",
       " [0, 0, 25, 60, 0, 15],\n",
       " [0, 0, 25, 60, 5, 10],\n",
       " [0, 0, 25, 60, 10, 5],\n",
       " [0, 0, 25, 60, 15, 0],\n",
       " [0, 0, 25, 70, 0, 5],\n",
       " [0, 0, 25, 70, 5, 0],\n",
       " [0, 0, 50, 0, 0, 50],\n",
       " [0, 0, 50, 0, 5, 45],\n",
       " [0, 0, 50, 0, 10, 40],\n",
       " [0, 0, 50, 0, 15, 35],\n",
       " [0, 0, 50, 0, 20, 30],\n",
       " [0, 0, 50, 0, 25, 25],\n",
       " [0, 0, 50, 0, 30, 20],\n",
       " [0, 0, 50, 0, 35, 15],\n",
       " [0, 0, 50, 0, 40, 10],\n",
       " [0, 0, 50, 0, 45, 5],\n",
       " [0, 0, 50, 0, 50, 0],\n",
       " [0, 0, 50, 10, 0, 40],\n",
       " [0, 0, 50, 10, 5, 35],\n",
       " [0, 0, 50, 10, 10, 30],\n",
       " [0, 0, 50, 10, 15, 25],\n",
       " [0, 0, 50, 10, 20, 20],\n",
       " [0, 0, 50, 10, 25, 15],\n",
       " [0, 0, 50, 10, 30, 10],\n",
       " [0, 0, 50, 10, 35, 5],\n",
       " [0, 0, 50, 10, 40, 0],\n",
       " [0, 0, 50, 20, 0, 30],\n",
       " [0, 0, 50, 20, 5, 25],\n",
       " [0, 0, 50, 20, 10, 20],\n",
       " [0, 0, 50, 20, 15, 15],\n",
       " [0, 0, 50, 20, 20, 10],\n",
       " [0, 0, 50, 20, 25, 5],\n",
       " [0, 0, 50, 20, 30, 0],\n",
       " [0, 0, 50, 30, 0, 20],\n",
       " [0, 0, 50, 30, 5, 15],\n",
       " [0, 0, 50, 30, 10, 10],\n",
       " [0, 0, 50, 30, 15, 5],\n",
       " [0, 0, 50, 30, 20, 0],\n",
       " [0, 0, 50, 40, 0, 10],\n",
       " [0, 0, 50, 40, 5, 5],\n",
       " [0, 0, 50, 40, 10, 0],\n",
       " [0, 0, 50, 50, 0, 0],\n",
       " [0, 0, 75, 0, 0, 25],\n",
       " [0, 0, 75, 0, 5, 20],\n",
       " [0, 0, 75, 0, 10, 15],\n",
       " [0, 0, 75, 0, 15, 10],\n",
       " [0, 0, 75, 0, 20, 5],\n",
       " [0, 0, 75, 0, 25, 0],\n",
       " [0, 0, 75, 10, 0, 15],\n",
       " [0, 0, 75, 10, 5, 10],\n",
       " [0, 0, 75, 10, 10, 5],\n",
       " [0, 0, 75, 10, 15, 0],\n",
       " [0, 0, 75, 20, 0, 5],\n",
       " [0, 0, 75, 20, 5, 0],\n",
       " [0, 0, 100, 0, 0, 0],\n",
       " [0, 50, 0, 0, 0, 50],\n",
       " [0, 50, 0, 0, 5, 45],\n",
       " [0, 50, 0, 0, 10, 40],\n",
       " [0, 50, 0, 0, 15, 35],\n",
       " [0, 50, 0, 0, 20, 30],\n",
       " [0, 50, 0, 0, 25, 25],\n",
       " [0, 50, 0, 0, 30, 20],\n",
       " [0, 50, 0, 0, 35, 15],\n",
       " [0, 50, 0, 0, 40, 10],\n",
       " [0, 50, 0, 0, 45, 5],\n",
       " [0, 50, 0, 0, 50, 0],\n",
       " [0, 50, 0, 10, 0, 40],\n",
       " [0, 50, 0, 10, 5, 35],\n",
       " [0, 50, 0, 10, 10, 30],\n",
       " [0, 50, 0, 10, 15, 25],\n",
       " [0, 50, 0, 10, 20, 20],\n",
       " [0, 50, 0, 10, 25, 15],\n",
       " [0, 50, 0, 10, 30, 10],\n",
       " [0, 50, 0, 10, 35, 5],\n",
       " [0, 50, 0, 10, 40, 0],\n",
       " [0, 50, 0, 20, 0, 30],\n",
       " [0, 50, 0, 20, 5, 25],\n",
       " [0, 50, 0, 20, 10, 20],\n",
       " [0, 50, 0, 20, 15, 15],\n",
       " [0, 50, 0, 20, 20, 10],\n",
       " [0, 50, 0, 20, 25, 5],\n",
       " [0, 50, 0, 20, 30, 0],\n",
       " [0, 50, 0, 30, 0, 20],\n",
       " [0, 50, 0, 30, 5, 15],\n",
       " [0, 50, 0, 30, 10, 10],\n",
       " [0, 50, 0, 30, 15, 5],\n",
       " [0, 50, 0, 30, 20, 0],\n",
       " [0, 50, 0, 40, 0, 10],\n",
       " [0, 50, 0, 40, 5, 5],\n",
       " [0, 50, 0, 40, 10, 0],\n",
       " [0, 50, 0, 50, 0, 0],\n",
       " [0, 50, 25, 0, 0, 25],\n",
       " [0, 50, 25, 0, 5, 20],\n",
       " [0, 50, 25, 0, 10, 15],\n",
       " [0, 50, 25, 0, 15, 10],\n",
       " [0, 50, 25, 0, 20, 5],\n",
       " [0, 50, 25, 0, 25, 0],\n",
       " [0, 50, 25, 10, 0, 15],\n",
       " [0, 50, 25, 10, 5, 10],\n",
       " [0, 50, 25, 10, 10, 5],\n",
       " [0, 50, 25, 10, 15, 0],\n",
       " [0, 50, 25, 20, 0, 5],\n",
       " [0, 50, 25, 20, 5, 0],\n",
       " [0, 50, 50, 0, 0, 0],\n",
       " [0, 100, 0, 0, 0, 0],\n",
       " [100, 0, 0, 0, 0, 0]]"
      ]
     },
     "execution_count": 5,
     "metadata": {},
     "output_type": "execute_result"
    }
   ],
   "source": [
    "combinations_amounts"
   ]
  },
  {
   "cell_type": "code",
   "execution_count": 6,
   "metadata": {},
   "outputs": [
    {
     "data": {
      "text/plain": [
       "293"
      ]
     },
     "execution_count": 6,
     "metadata": {},
     "output_type": "execute_result"
    }
   ],
   "source": [
    "len(combinations_amounts) "
   ]
  },
  {
   "cell_type": "code",
   "execution_count": 2,
   "metadata": {},
   "outputs": [],
   "source": [
    "# same as above, but now as a function that takes arbitrary total\n",
    "\n",
    "def find_combinations(total):\n",
    "    combinations_amounts = []\n",
    "\n",
    "    for amount_100 in range(0, total+1, 100):\n",
    "        for amount_50 in range(0, total+1, 50):\n",
    "            for amount_25 in range(0, total+1, 25):\n",
    "                for amount_10 in range(0, total+1, 10):\n",
    "                    for amount_5 in range(0, total+1, 5):\n",
    "                        total_so_far = amount_100 + amount_50 + amount_25 + amount_10 + amount_5\n",
    "\n",
    "                        if total_so_far <= total:\n",
    "                            combinations_amounts.append([amount_100, amount_50, amount_25, amount_10, amount_5,\n",
    "                                                         total - total_so_far])\n",
    "    \n",
    "    return combinations_amounts"
   ]
  },
  {
   "cell_type": "code",
   "execution_count": 9,
   "metadata": {},
   "outputs": [
    {
     "data": {
      "text/plain": [
       "2728"
      ]
     },
     "execution_count": 9,
     "metadata": {},
     "output_type": "execute_result"
    }
   ],
   "source": [
    "len(find_combinations(200))"
   ]
  },
  {
   "cell_type": "code",
   "execution_count": 10,
   "metadata": {},
   "outputs": [
    {
     "data": {
      "text/plain": [
       "12318"
      ]
     },
     "execution_count": 10,
     "metadata": {},
     "output_type": "execute_result"
    }
   ],
   "source": [
    "len(find_combinations(300))"
   ]
  },
  {
   "cell_type": "code",
   "execution_count": 11,
   "metadata": {},
   "outputs": [],
   "source": [
    "totals = range(100, 600, 100)\n",
    "lengths = [len(find_combinations(total)) for total in totals]"
   ]
  },
  {
   "cell_type": "code",
   "execution_count": 14,
   "metadata": {},
   "outputs": [
    {
     "data": {
      "text/plain": [
       "[<matplotlib.lines.Line2D at 0x28b5934dc90>]"
      ]
     },
     "execution_count": 14,
     "metadata": {},
     "output_type": "execute_result"
    },
    {
     "data": {
      "image/png": "[encoded data removed]",
      "text/plain": [
       "<Figure size 640x480 with 1 Axes>"
      ]
     },
     "metadata": {},
     "output_type": "display_data"
    }
   ],
   "source": [
    "pp.plot(totals, lengths)"
   ]
  },
  {
   "cell_type": "code",
   "execution_count": 3,
   "metadata": {},
   "outputs": [],
   "source": [
    "totals = range(100, 600, 50)\n",
    "lengths = [len(find_combinations(total)) for total in totals]"
   ]
  },
  {
   "cell_type": "code",
   "execution_count": 6,
   "metadata": {},
   "outputs": [
    {
     "data": {
      "text/plain": [
       "[<matplotlib.lines.Line2D at 0x2269a6673d0>]"
      ]
     },
     "execution_count": 6,
     "metadata": {},
     "output_type": "execute_result"
    },
    {
     "data": {
      "image/png": "[encoded data removed]",
      "text/plain": [
       "<Figure size 640x480 with 1 Axes>"
      ]
     },
     "metadata": {},
     "output_type": "display_data"
    }
   ],
   "source": [
    "pp.plot(totals, lengths)"
   ]
  },
  {
   "cell_type": "code",
   "execution_count": 7,
   "metadata": {},
   "outputs": [
    {
     "data": {
      "text/plain": [
       "range(100, 600, 50)"
      ]
     },
     "execution_count": 7,
     "metadata": {},
     "output_type": "execute_result"
    }
   ],
   "source": [
    "totals"
   ]
  },
  {
   "cell_type": "code",
   "execution_count": 8,
   "metadata": {},
   "outputs": [
    {
     "data": {
      "text/plain": [
       "[293, 1022, 2728, 6148, 12318, 22620, 38835, 63190, 98411, 147770]"
      ]
     },
     "execution_count": 8,
     "metadata": {},
     "output_type": "execute_result"
    }
   ],
   "source": [
    "lengths"
   ]
  },
  {
   "cell_type": "code",
   "execution_count": null,
   "metadata": {},
   "outputs": [],
   "source": []
  }
 ],
 "metadata": {
  "kernelspec": {
   "display_name": "Python 3 (ipykernel)",
   "language": "python",
   "name": "python3"
  },
  "language_info": {
   "codemirror_mode": {
    "name": "ipython",
    "version": 3
   },
   "file_extension": ".py",
   "mimetype": "text/x-python",
   "name": "python",
   "nbconvert_exporter": "python",
   "pygments_lexer": "ipython3",
   "version": "3.11.4"
  }
 },
 "nbformat": 4,
 "nbformat_minor": 2
}
