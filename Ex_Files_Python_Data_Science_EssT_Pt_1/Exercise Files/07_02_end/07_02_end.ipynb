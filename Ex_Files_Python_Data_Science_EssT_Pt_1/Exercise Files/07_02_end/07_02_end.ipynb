{
 "cells": [
  {
   "cell_type": "markdown",
   "metadata": {},
   "source": [
    "# Chapter 7 - Collaborative Analytics with Plotly\n",
    "## Segment 1 - Creating basic charts\n",
    "### Setting up to use Plotly within Jupyter"
   ]
  },
  {
   "cell_type": "code",
   "execution_count": 5,
   "metadata": {},
   "outputs": [
    {
     "name": "stdout",
     "output_type": "stream",
     "text": [
      "Collecting plotly==3.10.0\n",
      "  Downloading plotly-3.10.0-py2.py3-none-any.whl (41.5 MB)\n",
      "     ---------------------------------------- 0.0/41.5 MB ? eta -:--:--\n",
      "     ---------------------------------------- 0.0/41.5 MB ? eta -:--:--\n",
      "     --------------------------------------- 0.0/41.5 MB 393.8 kB/s eta 0:01:46\n",
      "     --------------------------------------- 0.1/41.5 MB 655.4 kB/s eta 0:01:04\n",
      "     --------------------------------------- 0.1/41.5 MB 853.3 kB/s eta 0:00:49\n",
      "     ---------------------------------------- 0.3/41.5 MB 1.2 MB/s eta 0:00:34\n",
      "     ---------------------------------------- 0.5/41.5 MB 2.0 MB/s eta 0:00:21\n",
      "      --------------------------------------- 0.7/41.5 MB 2.5 MB/s eta 0:00:17\n",
      "     - -------------------------------------- 1.1/41.5 MB 3.4 MB/s eta 0:00:12\n",
      "     - -------------------------------------- 1.5/41.5 MB 3.7 MB/s eta 0:00:11\n",
      "     - -------------------------------------- 1.8/41.5 MB 4.3 MB/s eta 0:00:10\n",
      "     -- ------------------------------------- 2.1/41.5 MB 4.5 MB/s eta 0:00:09\n",
      "     -- ------------------------------------- 2.7/41.5 MB 5.2 MB/s eta 0:00:08\n",
      "     -- ------------------------------------- 3.0/41.5 MB 5.4 MB/s eta 0:00:08\n",
      "     -- ------------------------------------- 3.1/41.5 MB 5.2 MB/s eta 0:00:08\n",
      "     --- ------------------------------------ 3.6/41.5 MB 5.6 MB/s eta 0:00:07\n",
      "     ---- ----------------------------------- 4.2/41.5 MB 6.2 MB/s eta 0:00:07\n",
      "     ---- ----------------------------------- 4.3/41.5 MB 6.0 MB/s eta 0:00:07\n",
      "     ---- ----------------------------------- 4.8/41.5 MB 6.2 MB/s eta 0:00:06\n",
      "     ----- ---------------------------------- 5.3/41.5 MB 6.5 MB/s eta 0:00:06\n",
      "     ----- ---------------------------------- 5.4/41.5 MB 6.6 MB/s eta 0:00:06\n",
      "     ----- ---------------------------------- 6.1/41.5 MB 6.9 MB/s eta 0:00:06\n",
      "     ------ --------------------------------- 6.3/41.5 MB 6.9 MB/s eta 0:00:06\n",
      "     ------ --------------------------------- 6.3/41.5 MB 6.9 MB/s eta 0:00:06\n",
      "     ------ --------------------------------- 7.1/41.5 MB 7.0 MB/s eta 0:00:05\n",
      "     ------- -------------------------------- 7.9/41.5 MB 7.5 MB/s eta 0:00:05\n",
      "     ------- -------------------------------- 8.2/41.5 MB 7.5 MB/s eta 0:00:05\n",
      "     -------- ------------------------------- 8.5/41.5 MB 7.7 MB/s eta 0:00:05\n",
      "     -------- ------------------------------- 9.3/41.5 MB 7.8 MB/s eta 0:00:05\n",
      "     --------- ------------------------------ 9.8/41.5 MB 7.9 MB/s eta 0:00:05\n",
      "     --------- ------------------------------ 10.2/41.5 MB 8.0 MB/s eta 0:00:04\n",
      "     --------- ------------------------------ 10.3/41.5 MB 8.8 MB/s eta 0:00:04\n",
      "     ---------- ----------------------------- 10.8/41.5 MB 9.1 MB/s eta 0:00:04\n",
      "     ---------- ----------------------------- 11.0/41.5 MB 9.4 MB/s eta 0:00:04\n",
      "     ----------- ---------------------------- 11.5/41.5 MB 9.5 MB/s eta 0:00:04\n",
      "     ----------- ---------------------------- 11.9/41.5 MB 9.5 MB/s eta 0:00:04\n",
      "     ----------- ---------------------------- 12.3/41.5 MB 9.6 MB/s eta 0:00:04\n",
      "     ------------ --------------------------- 12.5/41.5 MB 9.6 MB/s eta 0:00:04\n",
      "     ------------ --------------------------- 12.5/41.5 MB 9.6 MB/s eta 0:00:04\n",
      "     ------------ --------------------------- 12.5/41.5 MB 9.6 MB/s eta 0:00:04\n",
      "     ------------ --------------------------- 12.5/41.5 MB 9.6 MB/s eta 0:00:04\n",
      "     ------------- ------------------------- 14.7/41.5 MB 10.2 MB/s eta 0:00:03\n",
      "     -------------- ------------------------ 15.0/41.5 MB 10.1 MB/s eta 0:00:03\n",
      "     -------------- ------------------------- 15.3/41.5 MB 9.9 MB/s eta 0:00:03\n",
      "     -------------- ------------------------ 15.7/41.5 MB 10.1 MB/s eta 0:00:03\n",
      "     --------------- ------------------------ 15.9/41.5 MB 9.9 MB/s eta 0:00:03\n",
      "     --------------- ----------------------- 16.7/41.5 MB 10.6 MB/s eta 0:00:03\n",
      "     --------------- ----------------------- 16.8/41.5 MB 10.4 MB/s eta 0:00:03\n",
      "     ---------------- ----------------------- 17.0/41.5 MB 9.9 MB/s eta 0:00:03\n",
      "     ----------------- ---------------------- 18.2/41.5 MB 9.9 MB/s eta 0:00:03\n",
      "     ------------------ --------------------- 18.7/41.5 MB 9.9 MB/s eta 0:00:03\n",
      "     ----------------- --------------------- 19.1/41.5 MB 10.1 MB/s eta 0:00:03\n",
      "     ------------------ --------------------- 19.4/41.5 MB 9.9 MB/s eta 0:00:03\n",
      "     ------------------- -------------------- 19.9/41.5 MB 9.9 MB/s eta 0:00:03\n",
      "     ------------------- -------------------- 20.3/41.5 MB 9.9 MB/s eta 0:00:03\n",
      "     ------------------- ------------------- 20.9/41.5 MB 10.1 MB/s eta 0:00:03\n",
      "     -------------------- ------------------ 21.5/41.5 MB 10.6 MB/s eta 0:00:02\n",
      "     -------------------- ------------------ 21.9/41.5 MB 10.4 MB/s eta 0:00:02\n",
      "     -------------------- ------------------ 22.2/41.5 MB 10.4 MB/s eta 0:00:02\n",
      "     --------------------- ----------------- 22.6/41.5 MB 10.2 MB/s eta 0:00:02\n",
      "     --------------------- ----------------- 23.1/41.5 MB 11.9 MB/s eta 0:00:02\n",
      "     ---------------------- ---------------- 23.5/41.5 MB 11.5 MB/s eta 0:00:02\n",
      "     ---------------------- ---------------- 23.8/41.5 MB 10.9 MB/s eta 0:00:02\n",
      "     ---------------------- ---------------- 23.8/41.5 MB 10.9 MB/s eta 0:00:02\n",
      "     ---------------------- ---------------- 23.8/41.5 MB 10.9 MB/s eta 0:00:02\n",
      "     ---------------------- ---------------- 23.8/41.5 MB 10.9 MB/s eta 0:00:02\n",
      "     ---------------------- ---------------- 23.8/41.5 MB 10.9 MB/s eta 0:00:02\n",
      "     ------------------------ -------------- 25.9/41.5 MB 10.1 MB/s eta 0:00:02\n",
      "     ------------------------ -------------- 26.2/41.5 MB 10.2 MB/s eta 0:00:02\n",
      "     ------------------------- -------------- 26.3/41.5 MB 9.9 MB/s eta 0:00:02\n",
      "     ------------------------- -------------- 26.4/41.5 MB 9.9 MB/s eta 0:00:02\n",
      "     ------------------------- -------------- 26.4/41.5 MB 9.9 MB/s eta 0:00:02\n",
      "     -------------------------- ------------- 27.8/41.5 MB 9.8 MB/s eta 0:00:02\n",
      "     -------------------------- ------------- 28.0/41.5 MB 9.5 MB/s eta 0:00:02\n",
      "     -------------------------- ------------- 28.0/41.5 MB 9.5 MB/s eta 0:00:02\n",
      "     --------------------------- ------------ 28.1/41.5 MB 8.7 MB/s eta 0:00:02\n",
      "     ---------------------------- ----------- 29.5/41.5 MB 9.6 MB/s eta 0:00:02\n",
      "     ---------------------------- ----------- 29.8/41.5 MB 9.4 MB/s eta 0:00:02\n",
      "     ----------------------------- ---------- 30.2/41.5 MB 9.8 MB/s eta 0:00:02\n",
      "     ----------------------------- ---------- 30.4/41.5 MB 9.4 MB/s eta 0:00:02\n",
      "     ----------------------------- ---------- 30.7/41.5 MB 9.2 MB/s eta 0:00:02\n",
      "     ------------------------------ --------- 31.3/41.5 MB 9.4 MB/s eta 0:00:02\n",
      "     ------------------------------ --------- 31.7/41.5 MB 9.1 MB/s eta 0:00:02\n",
      "     ------------------------------- -------- 32.2/41.5 MB 9.4 MB/s eta 0:00:01\n",
      "     ------------------------------- -------- 32.7/41.5 MB 9.4 MB/s eta 0:00:01\n",
      "     -------------------------------- ------- 33.3/41.5 MB 9.2 MB/s eta 0:00:01\n",
      "     -------------------------------- ------- 33.7/41.5 MB 9.4 MB/s eta 0:00:01\n",
      "     -------------------------------- ------- 34.0/41.5 MB 9.4 MB/s eta 0:00:01\n",
      "     -------------------------------- ------ 34.4/41.5 MB 11.1 MB/s eta 0:00:01\n",
      "     -------------------------------- ------ 34.8/41.5 MB 10.6 MB/s eta 0:00:01\n",
      "     --------------------------------- ----- 35.2/41.5 MB 10.1 MB/s eta 0:00:01\n",
      "     ---------------------------------- ----- 35.7/41.5 MB 9.8 MB/s eta 0:00:01\n",
      "     ---------------------------------- ----- 36.1/41.5 MB 9.8 MB/s eta 0:00:01\n",
      "     ---------------------------------- ---- 36.6/41.5 MB 11.1 MB/s eta 0:00:01\n",
      "     ---------------------------------- ---- 37.1/41.5 MB 10.6 MB/s eta 0:00:01\n",
      "     ----------------------------------- --- 37.4/41.5 MB 10.2 MB/s eta 0:00:01\n",
      "     ------------------------------------ --- 37.8/41.5 MB 9.9 MB/s eta 0:00:01\n",
      "     ------------------------------------ -- 38.4/41.5 MB 11.1 MB/s eta 0:00:01\n",
      "     ------------------------------------ -- 38.5/41.5 MB 10.9 MB/s eta 0:00:01\n",
      "     ------------------------------------ -- 38.9/41.5 MB 10.2 MB/s eta 0:00:01\n",
      "     ------------------------------------- -- 39.4/41.5 MB 9.9 MB/s eta 0:00:01\n",
      "     -------------------------------------- - 39.8/41.5 MB 9.9 MB/s eta 0:00:01\n",
      "     -------------------------------------- - 40.3/41.5 MB 9.8 MB/s eta 0:00:01\n",
      "     --------------------------------------  40.6/41.5 MB 10.2 MB/s eta 0:00:01\n",
      "     --------------------------------------  40.8/41.5 MB 10.2 MB/s eta 0:00:01\n",
      "     ---------------------------------------  41.4/41.5 MB 9.9 MB/s eta 0:00:01\n",
      "     ---------------------------------------  41.5/41.5 MB 9.8 MB/s eta 0:00:01\n",
      "     ---------------------------------------  41.5/41.5 MB 9.8 MB/s eta 0:00:01\n",
      "     ---------------------------------------  41.5/41.5 MB 9.8 MB/s eta 0:00:01\n",
      "     ---------------------------------------- 41.5/41.5 MB 8.7 MB/s eta 0:00:00\n",
      "Requirement already satisfied: decorator>=4.0.6 in c:\\users\\wayla\\anaconda3\\lib\\site-packages (from plotly==3.10.0) (5.1.1)\n",
      "Requirement already satisfied: nbformat>=4.2 in c:\\users\\wayla\\anaconda3\\lib\\site-packages (from plotly==3.10.0) (5.9.2)\n",
      "Requirement already satisfied: pytz in c:\\users\\wayla\\anaconda3\\lib\\site-packages (from plotly==3.10.0) (2023.3.post1)\n",
      "Requirement already satisfied: requests in c:\\users\\wayla\\anaconda3\\lib\\site-packages (from plotly==3.10.0) (2.31.0)\n",
      "Collecting retrying>=1.3.3 (from plotly==3.10.0)\n",
      "  Downloading retrying-1.3.4-py3-none-any.whl (11 kB)\n",
      "Requirement already satisfied: six in c:\\users\\wayla\\anaconda3\\lib\\site-packages (from plotly==3.10.0) (1.16.0)\n",
      "Requirement already satisfied: fastjsonschema in c:\\users\\wayla\\anaconda3\\lib\\site-packages (from nbformat>=4.2->plotly==3.10.0) (2.16.2)\n",
      "Requirement already satisfied: jsonschema>=2.6 in c:\\users\\wayla\\anaconda3\\lib\\site-packages (from nbformat>=4.2->plotly==3.10.0) (4.17.3)\n",
      "Requirement already satisfied: jupyter-core in c:\\users\\wayla\\anaconda3\\lib\\site-packages (from nbformat>=4.2->plotly==3.10.0) (5.3.0)\n",
      "Requirement already satisfied: traitlets>=5.1 in c:\\users\\wayla\\anaconda3\\lib\\site-packages (from nbformat>=4.2->plotly==3.10.0) (5.7.1)\n",
      "Requirement already satisfied: charset-normalizer<4,>=2 in c:\\users\\wayla\\anaconda3\\lib\\site-packages (from requests->plotly==3.10.0) (2.0.4)\n",
      "Requirement already satisfied: idna<4,>=2.5 in c:\\users\\wayla\\anaconda3\\lib\\site-packages (from requests->plotly==3.10.0) (3.4)\n",
      "Requirement already satisfied: urllib3<3,>=1.21.1 in c:\\users\\wayla\\anaconda3\\lib\\site-packages (from requests->plotly==3.10.0) (1.26.16)\n",
      "Requirement already satisfied: certifi>=2017.4.17 in c:\\users\\wayla\\anaconda3\\lib\\site-packages (from requests->plotly==3.10.0) (2023.11.17)\n",
      "Requirement already satisfied: attrs>=17.4.0 in c:\\users\\wayla\\anaconda3\\lib\\site-packages (from jsonschema>=2.6->nbformat>=4.2->plotly==3.10.0) (22.1.0)\n",
      "Requirement already satisfied: pyrsistent!=0.17.0,!=0.17.1,!=0.17.2,>=0.14.0 in c:\\users\\wayla\\anaconda3\\lib\\site-packages (from jsonschema>=2.6->nbformat>=4.2->plotly==3.10.0) (0.18.0)\n",
      "Requirement already satisfied: platformdirs>=2.5 in c:\\users\\wayla\\anaconda3\\lib\\site-packages (from jupyter-core->nbformat>=4.2->plotly==3.10.0) (3.10.0)\n",
      "Requirement already satisfied: pywin32>=300 in c:\\users\\wayla\\anaconda3\\lib\\site-packages (from jupyter-core->nbformat>=4.2->plotly==3.10.0) (305.1)\n",
      "Installing collected packages: retrying, plotly\n",
      "  Attempting uninstall: plotly\n",
      "    Found existing installation: plotly 5.9.0\n",
      "    Uninstalling plotly-5.9.0:\n",
      "      Successfully uninstalled plotly-5.9.0\n",
      "Successfully installed plotly-3.10.0 retrying-1.3.4\n"
     ]
    },
    {
     "name": "stderr",
     "output_type": "stream",
     "text": [
      "ERROR: pip's dependency resolver does not currently take into account all the packages that are installed. This behaviour is the source of the following dependency conflicts.\n",
      "cufflinks 0.17.3 requires plotly>=4.1.1, but you have plotly 3.10.0 which is incompatible.\n"
     ]
    }
   ],
   "source": [
    "! pip install plotly==3.10.0"
   ]
  },
  {
   "cell_type": "code",
   "execution_count": 2,
   "metadata": {},
   "outputs": [
    {
     "name": "stdout",
     "output_type": "stream",
     "text": [
      "Collecting cufflinks\n",
      "  Downloading cufflinks-0.17.3.tar.gz (81 kB)\n",
      "     ---------------------------------------- 0.0/81.7 kB ? eta -:--:--\n",
      "     ----- ---------------------------------- 10.2/81.7 kB ? eta -:--:--\n",
      "     ---------------------------- --------- 61.4/81.7 kB 544.7 kB/s eta 0:00:01\n",
      "     -------------------------------------- 81.7/81.7 kB 572.0 kB/s eta 0:00:00\n",
      "  Preparing metadata (setup.py): started\n",
      "  Preparing metadata (setup.py): finished with status 'done'\n",
      "Requirement already satisfied: numpy>=1.9.2 in c:\\users\\wayla\\anaconda3\\lib\\site-packages (from cufflinks) (1.24.3)\n",
      "Requirement already satisfied: pandas>=0.19.2 in c:\\users\\wayla\\anaconda3\\lib\\site-packages (from cufflinks) (2.0.3)\n",
      "Requirement already satisfied: plotly>=4.1.1 in c:\\users\\wayla\\anaconda3\\lib\\site-packages (from cufflinks) (5.9.0)\n",
      "Requirement already satisfied: six>=1.9.0 in c:\\users\\wayla\\anaconda3\\lib\\site-packages (from cufflinks) (1.16.0)\n",
      "Collecting colorlover>=0.2.1 (from cufflinks)\n",
      "  Downloading colorlover-0.3.0-py3-none-any.whl (8.9 kB)\n",
      "Requirement already satisfied: setuptools>=34.4.1 in c:\\users\\wayla\\anaconda3\\lib\\site-packages (from cufflinks) (68.0.0)\n",
      "Requirement already satisfied: ipython>=5.3.0 in c:\\users\\wayla\\anaconda3\\lib\\site-packages (from cufflinks) (8.15.0)\n",
      "Requirement already satisfied: ipywidgets>=7.0.0 in c:\\users\\wayla\\anaconda3\\lib\\site-packages (from cufflinks) (8.0.4)\n",
      "Requirement already satisfied: backcall in c:\\users\\wayla\\anaconda3\\lib\\site-packages (from ipython>=5.3.0->cufflinks) (0.2.0)\n",
      "Requirement already satisfied: decorator in c:\\users\\wayla\\anaconda3\\lib\\site-packages (from ipython>=5.3.0->cufflinks) (5.1.1)\n",
      "Requirement already satisfied: jedi>=0.16 in c:\\users\\wayla\\anaconda3\\lib\\site-packages (from ipython>=5.3.0->cufflinks) (0.18.1)\n",
      "Requirement already satisfied: matplotlib-inline in c:\\users\\wayla\\anaconda3\\lib\\site-packages (from ipython>=5.3.0->cufflinks) (0.1.6)\n",
      "Requirement already satisfied: pickleshare in c:\\users\\wayla\\anaconda3\\lib\\site-packages (from ipython>=5.3.0->cufflinks) (0.7.5)\n",
      "Requirement already satisfied: prompt-toolkit!=3.0.37,<3.1.0,>=3.0.30 in c:\\users\\wayla\\anaconda3\\lib\\site-packages (from ipython>=5.3.0->cufflinks) (3.0.36)\n",
      "Requirement already satisfied: pygments>=2.4.0 in c:\\users\\wayla\\anaconda3\\lib\\site-packages (from ipython>=5.3.0->cufflinks) (2.15.1)\n",
      "Requirement already satisfied: stack-data in c:\\users\\wayla\\anaconda3\\lib\\site-packages (from ipython>=5.3.0->cufflinks) (0.2.0)\n",
      "Requirement already satisfied: traitlets>=5 in c:\\users\\wayla\\anaconda3\\lib\\site-packages (from ipython>=5.3.0->cufflinks) (5.7.1)\n",
      "Requirement already satisfied: colorama in c:\\users\\wayla\\anaconda3\\lib\\site-packages (from ipython>=5.3.0->cufflinks) (0.4.6)\n",
      "Requirement already satisfied: ipykernel>=4.5.1 in c:\\users\\wayla\\anaconda3\\lib\\site-packages (from ipywidgets>=7.0.0->cufflinks) (6.25.0)\n",
      "Requirement already satisfied: widgetsnbextension~=4.0 in c:\\users\\wayla\\anaconda3\\lib\\site-packages (from ipywidgets>=7.0.0->cufflinks) (4.0.5)\n",
      "Requirement already satisfied: jupyterlab-widgets~=3.0 in c:\\users\\wayla\\anaconda3\\lib\\site-packages (from ipywidgets>=7.0.0->cufflinks) (3.0.5)\n",
      "Requirement already satisfied: python-dateutil>=2.8.2 in c:\\users\\wayla\\anaconda3\\lib\\site-packages (from pandas>=0.19.2->cufflinks) (2.8.2)\n",
      "Requirement already satisfied: pytz>=2020.1 in c:\\users\\wayla\\anaconda3\\lib\\site-packages (from pandas>=0.19.2->cufflinks) (2023.3.post1)\n",
      "Requirement already satisfied: tzdata>=2022.1 in c:\\users\\wayla\\anaconda3\\lib\\site-packages (from pandas>=0.19.2->cufflinks) (2023.3)\n",
      "Requirement already satisfied: tenacity>=6.2.0 in c:\\users\\wayla\\anaconda3\\lib\\site-packages (from plotly>=4.1.1->cufflinks) (8.2.2)\n",
      "Requirement already satisfied: comm>=0.1.1 in c:\\users\\wayla\\anaconda3\\lib\\site-packages (from ipykernel>=4.5.1->ipywidgets>=7.0.0->cufflinks) (0.1.2)\n",
      "Requirement already satisfied: debugpy>=1.6.5 in c:\\users\\wayla\\anaconda3\\lib\\site-packages (from ipykernel>=4.5.1->ipywidgets>=7.0.0->cufflinks) (1.6.7)\n",
      "Requirement already satisfied: jupyter-client>=6.1.12 in c:\\users\\wayla\\anaconda3\\lib\\site-packages (from ipykernel>=4.5.1->ipywidgets>=7.0.0->cufflinks) (7.4.9)\n",
      "Requirement already satisfied: jupyter-core!=5.0.*,>=4.12 in c:\\users\\wayla\\anaconda3\\lib\\site-packages (from ipykernel>=4.5.1->ipywidgets>=7.0.0->cufflinks) (5.3.0)\n",
      "Requirement already satisfied: nest-asyncio in c:\\users\\wayla\\anaconda3\\lib\\site-packages (from ipykernel>=4.5.1->ipywidgets>=7.0.0->cufflinks) (1.5.6)\n",
      "Requirement already satisfied: packaging in c:\\users\\wayla\\anaconda3\\lib\\site-packages (from ipykernel>=4.5.1->ipywidgets>=7.0.0->cufflinks) (23.1)\n",
      "Requirement already satisfied: psutil in c:\\users\\wayla\\anaconda3\\lib\\site-packages (from ipykernel>=4.5.1->ipywidgets>=7.0.0->cufflinks) (5.9.0)\n",
      "Requirement already satisfied: pyzmq>=20 in c:\\users\\wayla\\anaconda3\\lib\\site-packages (from ipykernel>=4.5.1->ipywidgets>=7.0.0->cufflinks) (23.2.0)\n",
      "Requirement already satisfied: tornado>=6.1 in c:\\users\\wayla\\anaconda3\\lib\\site-packages (from ipykernel>=4.5.1->ipywidgets>=7.0.0->cufflinks) (6.3.2)\n",
      "Requirement already satisfied: parso<0.9.0,>=0.8.0 in c:\\users\\wayla\\anaconda3\\lib\\site-packages (from jedi>=0.16->ipython>=5.3.0->cufflinks) (0.8.3)\n",
      "Requirement already satisfied: wcwidth in c:\\users\\wayla\\anaconda3\\lib\\site-packages (from prompt-toolkit!=3.0.37,<3.1.0,>=3.0.30->ipython>=5.3.0->cufflinks) (0.2.5)\n",
      "Requirement already satisfied: executing in c:\\users\\wayla\\anaconda3\\lib\\site-packages (from stack-data->ipython>=5.3.0->cufflinks) (0.8.3)\n",
      "Requirement already satisfied: asttokens in c:\\users\\wayla\\anaconda3\\lib\\site-packages (from stack-data->ipython>=5.3.0->cufflinks) (2.0.5)\n",
      "Requirement already satisfied: pure-eval in c:\\users\\wayla\\anaconda3\\lib\\site-packages (from stack-data->ipython>=5.3.0->cufflinks) (0.2.2)\n",
      "Requirement already satisfied: entrypoints in c:\\users\\wayla\\anaconda3\\lib\\site-packages (from jupyter-client>=6.1.12->ipykernel>=4.5.1->ipywidgets>=7.0.0->cufflinks) (0.4)\n",
      "Requirement already satisfied: platformdirs>=2.5 in c:\\users\\wayla\\anaconda3\\lib\\site-packages (from jupyter-core!=5.0.*,>=4.12->ipykernel>=4.5.1->ipywidgets>=7.0.0->cufflinks) (3.10.0)\n",
      "Requirement already satisfied: pywin32>=300 in c:\\users\\wayla\\anaconda3\\lib\\site-packages (from jupyter-core!=5.0.*,>=4.12->ipykernel>=4.5.1->ipywidgets>=7.0.0->cufflinks) (305.1)\n",
      "Building wheels for collected packages: cufflinks\n",
      "  Building wheel for cufflinks (setup.py): started\n",
      "  Building wheel for cufflinks (setup.py): finished with status 'done'\n",
      "  Created wheel for cufflinks: filename=cufflinks-0.17.3-py3-none-any.whl size=68725 sha256=176f14c63a12927249fc5acb7f47c759ece858e77da81403fc86bc638263afb2\n",
      "  Stored in directory: c:\\users\\wayla\\appdata\\local\\pip\\cache\\wheels\\c3\\bf\\8f\\afa0730b29e347e8c1071049f89748c1262e7a14a838820ae6\n",
      "Successfully built cufflinks\n",
      "Installing collected packages: colorlover, cufflinks\n",
      "Successfully installed colorlover-0.3.0 cufflinks-0.17.3\n"
     ]
    }
   ],
   "source": [
    "! pip install cufflinks"
   ]
  },
  {
   "cell_type": "code",
   "execution_count": 15,
   "metadata": {},
   "outputs": [],
   "source": [
    "import numpy as np\n",
    "import pandas as pd\n",
    "\n",
    "import cufflinks as cf\n",
    "\n",
    "import plotly.plotly as py\n",
    "import chart_studio.tools as tls\n",
    "import plotly.graph_objs as go"
   ]
  },
  {
   "cell_type": "code",
   "execution_count": 16,
   "metadata": {},
   "outputs": [],
   "source": [
    "tls.set_credentials_file(username='waylandla', api_key='53NNxgg1weBgfjYxtJv0')"
   ]
  },
  {
   "cell_type": "markdown",
   "metadata": {},
   "source": [
    "### Creating line charts"
   ]
  },
  {
   "cell_type": "markdown",
   "metadata": {},
   "source": [
    "#### A very basic line chart"
   ]
  },
  {
   "cell_type": "code",
   "execution_count": 17,
   "metadata": {},
   "outputs": [
    {
     "name": "stdout",
     "output_type": "stream",
     "text": [
      "Unexpected exception formatting exception. Falling back to standard exception\n"
     ]
    },
    {
     "name": "stderr",
     "output_type": "stream",
     "text": [
      "Traceback (most recent call last):\n",
      "  File \"C:\\Users\\wayla\\anaconda3\\Lib\\site-packages\\IPython\\core\\interactiveshell.py\", line 3526, in run_code\n",
      "    exec(code_obj, self.user_global_ns, self.user_ns)\n",
      "  File \"C:\\Users\\wayla\\AppData\\Local\\Temp\\ipykernel_7304\\2871911159.py\", line 7, in <module>\n",
      "    trace = go.Scatter(x=a, y=b)\n",
      "            ^^^^^^^^^^^^^^^^^^^^\n",
      "  File \"C:\\Users\\wayla\\anaconda3\\Lib\\site-packages\\plotly\\graph_objs\\_scatter.py\", line 3292, in __init__\n",
      "  File \"C:\\Users\\wayla\\anaconda3\\Lib\\site-packages\\plotly\\basedatatypes.py\", line 4847, in __setitem__\n",
      "  File \"C:\\Users\\wayla\\anaconda3\\Lib\\site-packages\\plotly\\basedatatypes.py\", line 4327, in _get_validator\n",
      "ModuleNotFoundError: No module named 'plotly.validator_cache'\n",
      "\n",
      "During handling of the above exception, another exception occurred:\n",
      "\n",
      "Traceback (most recent call last):\n",
      "  File \"C:\\Users\\wayla\\anaconda3\\Lib\\site-packages\\IPython\\core\\interactiveshell.py\", line 2120, in showtraceback\n",
      "    stb = self.InteractiveTB.structured_traceback(\n",
      "          ^^^^^^^^^^^^^^^^^^^^^^^^^^^^^^^^^^^^^^^^\n",
      "  File \"C:\\Users\\wayla\\anaconda3\\Lib\\site-packages\\IPython\\core\\ultratb.py\", line 1435, in structured_traceback\n",
      "    return FormattedTB.structured_traceback(\n",
      "           ^^^^^^^^^^^^^^^^^^^^^^^^^^^^^^^^^\n",
      "  File \"C:\\Users\\wayla\\anaconda3\\Lib\\site-packages\\IPython\\core\\ultratb.py\", line 1326, in structured_traceback\n",
      "    return VerboseTB.structured_traceback(\n",
      "           ^^^^^^^^^^^^^^^^^^^^^^^^^^^^^^^\n",
      "  File \"C:\\Users\\wayla\\anaconda3\\Lib\\site-packages\\IPython\\core\\ultratb.py\", line 1173, in structured_traceback\n",
      "    formatted_exception = self.format_exception_as_a_whole(etype, evalue, etb, number_of_lines_of_context,\n",
      "                          ^^^^^^^^^^^^^^^^^^^^^^^^^^^^^^^^^^^^^^^^^^^^^^^^^^^^^^^^^^^^^^^^^^^^^^^^^^^^^^^^\n",
      "  File \"C:\\Users\\wayla\\anaconda3\\Lib\\site-packages\\IPython\\core\\ultratb.py\", line 1088, in format_exception_as_a_whole\n",
      "    frames.append(self.format_record(record))\n",
      "                  ^^^^^^^^^^^^^^^^^^^^^^^^^^\n",
      "  File \"C:\\Users\\wayla\\anaconda3\\Lib\\site-packages\\IPython\\core\\ultratb.py\", line 970, in format_record\n",
      "    frame_info.lines, Colors, self.has_colors, lvals\n",
      "    ^^^^^^^^^^^^^^^^\n",
      "  File \"C:\\Users\\wayla\\anaconda3\\Lib\\site-packages\\IPython\\core\\ultratb.py\", line 792, in lines\n",
      "    return self._sd.lines\n",
      "           ^^^^^^^^^^^^^^\n",
      "  File \"C:\\Users\\wayla\\anaconda3\\Lib\\site-packages\\stack_data\\utils.py\", line 145, in cached_property_wrapper\n",
      "    value = obj.__dict__[self.func.__name__] = self.func(obj)\n",
      "                                               ^^^^^^^^^^^^^^\n",
      "  File \"C:\\Users\\wayla\\anaconda3\\Lib\\site-packages\\stack_data\\core.py\", line 698, in lines\n",
      "    pieces = self.included_pieces\n",
      "             ^^^^^^^^^^^^^^^^^^^^\n",
      "  File \"C:\\Users\\wayla\\anaconda3\\Lib\\site-packages\\stack_data\\utils.py\", line 145, in cached_property_wrapper\n",
      "    value = obj.__dict__[self.func.__name__] = self.func(obj)\n",
      "                                               ^^^^^^^^^^^^^^\n",
      "  File \"C:\\Users\\wayla\\anaconda3\\Lib\\site-packages\\stack_data\\core.py\", line 649, in included_pieces\n",
      "    pos = scope_pieces.index(self.executing_piece)\n",
      "                             ^^^^^^^^^^^^^^^^^^^^\n",
      "  File \"C:\\Users\\wayla\\anaconda3\\Lib\\site-packages\\stack_data\\utils.py\", line 145, in cached_property_wrapper\n",
      "    value = obj.__dict__[self.func.__name__] = self.func(obj)\n",
      "                                               ^^^^^^^^^^^^^^\n",
      "  File \"C:\\Users\\wayla\\anaconda3\\Lib\\site-packages\\stack_data\\core.py\", line 628, in executing_piece\n",
      "    return only(\n",
      "           ^^^^^\n",
      "  File \"C:\\Users\\wayla\\anaconda3\\Lib\\site-packages\\executing\\executing.py\", line 164, in only\n",
      "    raise NotOneValueFound('Expected one value, found 0')\n",
      "executing.executing.NotOneValueFound: Expected one value, found 0\n"
     ]
    }
   ],
   "source": [
    "a = np.linspace(start=0, stop=36, num=36)\n",
    "\n",
    "np.random.seed(25)\n",
    "\n",
    "b = np.random.uniform(low=0.0, high=1.0, size=36)\n",
    "\n",
    "trace = go.Scatter(x=a, y=b)\n",
    "\n",
    "data = [trace]\n",
    "\n",
    "py.iplot(data, filename=\"basic-line-chart\")"
   ]
  },
  {
   "cell_type": "markdown",
   "metadata": {},
   "source": [
    "#### A line chart from a pandas dataframe "
   ]
  },
  {
   "cell_type": "code",
   "execution_count": null,
   "metadata": {},
   "outputs": [],
   "source": []
  },
  {
   "cell_type": "markdown",
   "metadata": {},
   "source": [
    "### Creating bar charts"
   ]
  },
  {
   "cell_type": "code",
   "execution_count": null,
   "metadata": {},
   "outputs": [],
   "source": []
  },
  {
   "cell_type": "code",
   "execution_count": null,
   "metadata": {},
   "outputs": [],
   "source": []
  },
  {
   "cell_type": "markdown",
   "metadata": {},
   "source": [
    "### Creating pie charts"
   ]
  },
  {
   "cell_type": "code",
   "execution_count": null,
   "metadata": {},
   "outputs": [],
   "source": []
  },
  {
   "cell_type": "code",
   "execution_count": null,
   "metadata": {},
   "outputs": [],
   "source": []
  }
 ],
 "metadata": {
  "anaconda-cloud": {},
  "kernelspec": {
   "display_name": "Python 3 (ipykernel)",
   "language": "python",
   "name": "python3"
  },
  "language_info": {
   "codemirror_mode": {
    "name": "ipython",
    "version": 3
   },
   "file_extension": ".py",
   "mimetype": "text/x-python",
   "name": "python",
   "nbconvert_exporter": "python",
   "pygments_lexer": "ipython3",
   "version": "3.11.5"
  }
 },
 "nbformat": 4,
 "nbformat_minor": 1
}
