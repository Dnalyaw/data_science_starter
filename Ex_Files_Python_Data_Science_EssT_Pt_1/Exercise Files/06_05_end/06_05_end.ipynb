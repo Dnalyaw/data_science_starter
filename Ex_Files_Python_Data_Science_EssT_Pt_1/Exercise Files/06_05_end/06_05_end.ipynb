{
 "cells": [
  {
   "cell_type": "markdown",
   "metadata": {},
   "source": [
    "# Chapter 6 -  Data Sourcing via Web\n",
    "## Segment 5 - Introduction to NLP"
   ]
  },
  {
   "cell_type": "code",
   "execution_count": 1,
   "metadata": {},
   "outputs": [],
   "source": [
    "import nltk"
   ]
  },
  {
   "cell_type": "code",
   "execution_count": 2,
   "metadata": {},
   "outputs": [],
   "source": [
    "text = \"On Wednesday, the Association for Computing Machinery, the world’s largest society of computing professionals, announced that Hinton, LeCun and Bengio had won this year’s Turing Award for their work on neural networks. The Turing Award, which was introduced in 1966, is often called the Nobel Prize of computing, and it includes a $1 million prize, which the three scientists will share.\""
   ]
  },
  {
   "cell_type": "code",
   "execution_count": 3,
   "metadata": {},
   "outputs": [
    {
     "name": "stderr",
     "output_type": "stream",
     "text": [
      "[nltk_data] Downloading package punkt to\n",
      "[nltk_data]     C:\\Users\\wayla\\AppData\\Roaming\\nltk_data...\n",
      "[nltk_data]   Unzipping tokenizers\\punkt.zip.\n"
     ]
    },
    {
     "data": {
      "text/plain": [
       "True"
      ]
     },
     "execution_count": 3,
     "metadata": {},
     "output_type": "execute_result"
    }
   ],
   "source": [
    "nltk.download('punkt')#sentence tokenizer"
   ]
  },
  {
   "cell_type": "markdown",
   "metadata": {},
   "source": [
    "<h3>Sentence Tokenizer</h3>"
   ]
  },
  {
   "cell_type": "code",
   "execution_count": 4,
   "metadata": {
    "scrolled": true
   },
   "outputs": [
    {
     "name": "stdout",
     "output_type": "stream",
     "text": [
      "Sentence tokenizing the text: \n",
      "\n",
      "['On Wednesday, the Association for Computing Machinery, the world’s largest society of computing professionals, announced that Hinton, LeCun and Bengio had won this year’s Turing Award for their work on neural networks.', 'The Turing Award, which was introduced in 1966, is often called the Nobel Prize of computing, and it includes a $1 million prize, which the three scientists will share.']\n"
     ]
    }
   ],
   "source": [
    "from nltk.tokenize import sent_tokenize\n",
    "sent_tk = sent_tokenize(text)\n",
    "print(\"Sentence tokenizing the text: \\n\")\n",
    "print(sent_tk)"
   ]
  },
  {
   "cell_type": "markdown",
   "metadata": {},
   "source": [
    "### Word Tokenizer"
   ]
  },
  {
   "cell_type": "code",
   "execution_count": 5,
   "metadata": {
    "scrolled": true
   },
   "outputs": [
    {
     "name": "stdout",
     "output_type": "stream",
     "text": [
      "Word tokenizing the text: \n",
      "\n",
      "['On', 'Wednesday', ',', 'the', 'Association', 'for', 'Computing', 'Machinery', ',', 'the', 'world', '’', 's', 'largest', 'society', 'of', 'computing', 'professionals', ',', 'announced', 'that', 'Hinton', ',', 'LeCun', 'and', 'Bengio', 'had', 'won', 'this', 'year', '’', 's', 'Turing', 'Award', 'for', 'their', 'work', 'on', 'neural', 'networks', '.', 'The', 'Turing', 'Award', ',', 'which', 'was', 'introduced', 'in', '1966', ',', 'is', 'often', 'called', 'the', 'Nobel', 'Prize', 'of', 'computing', ',', 'and', 'it', 'includes', 'a', '$', '1', 'million', 'prize', ',', 'which', 'the', 'three', 'scientists', 'will', 'share', '.']\n"
     ]
    }
   ],
   "source": [
    "from nltk.tokenize import word_tokenize\n",
    "word_tk = word_tokenize(text)\n",
    "print(\"Word tokenizing the text: \\n\")\n",
    "print(word_tk)"
   ]
  },
  {
   "cell_type": "markdown",
   "metadata": {},
   "source": [
    "### Removing stop words"
   ]
  },
  {
   "cell_type": "code",
   "execution_count": 9,
   "metadata": {},
   "outputs": [
    {
     "name": "stderr",
     "output_type": "stream",
     "text": [
      "[nltk_data] Downloading package stopwords to\n",
      "[nltk_data]     C:\\Users\\wayla\\AppData\\Roaming\\nltk_data...\n",
      "[nltk_data]   Unzipping corpora\\stopwords.zip.\n"
     ]
    },
    {
     "data": {
      "text/plain": [
       "True"
      ]
     },
     "execution_count": 9,
     "metadata": {},
     "output_type": "execute_result"
    }
   ],
   "source": [
    "nltk.download('stopwords')"
   ]
  },
  {
   "cell_type": "code",
   "execution_count": 11,
   "metadata": {},
   "outputs": [
    {
     "name": "stdout",
     "output_type": "stream",
     "text": [
      "Stop words in English language \n",
      "\n",
      "{'which', 'yourself', \"aren't\", 'don', 'how', 'that', 'we', 'in', 'be', \"you're\", 'was', 'at', 'where', 'for', \"didn't\", 'below', 'yourselves', 'aren', 'each', \"she's\", 'with', 's', 're', 'their', \"should've\", 'whom', 'there', \"don't\", 'didn', 'you', 'doing', 'few', 'won', 've', 'its', 'myself', 'does', 'more', \"haven't\", 'through', \"couldn't\", 'against', \"weren't\", 'and', \"doesn't\", \"wouldn't\", 'some', \"mustn't\", 'most', 'not', 'who', 'y', 'just', 'hadn', 'very', 'ourselves', 'these', 'were', \"wasn't\", 'nor', 'mightn', 'until', 'is', 'him', 'am', 'no', 'than', 'hasn', 'if', 'why', 'our', 'all', 'couldn', 'ain', 'any', 'shan', 'before', 'will', \"hasn't\", \"hadn't\", 'hers', 'them', 'yours', 'having', 'll', 'same', \"needn't\", 'did', 'had', \"shouldn't\", 'so', 'during', 'her', 'a', 'under', 'up', 'do', 'd', 'both', 'about', 'out', 'isn', 'wouldn', 'once', 'too', 'they', 'now', 'between', 'should', 'off', 'further', 'himself', 'again', 'doesn', 'needn', 'themselves', 'to', 'an', 'while', 'being', 'can', 'by', 'are', 'such', \"mightn't\", 'own', 'only', \"shan't\", 'she', 'then', 'other', 'm', 'itself', 'has', 'your', 'my', \"you'd\", \"it's\", 'but', 'mustn', \"won't\", 'he', 'it', 'ma', 'me', 'i', \"isn't\", 'ours', 'weren', 'been', 'here', 'the', 'shouldn', 'have', 'those', 'of', 'down', 'into', \"that'll\", 'theirs', 'on', 'o', 'as', 'after', \"you've\", 'his', 'what', 't', 'above', 'this', 'wasn', \"you'll\", 'or', 'from', 'when', 'herself', 'over', 'haven', 'because'}\n"
     ]
    }
   ],
   "source": [
    "from nltk.corpus import stopwords\n",
    "\n",
    "sw = set(stopwords.words(\"english\"))\n",
    "print(\"Stop words in English language \\n\")\n",
    "print(sw)"
   ]
  },
  {
   "cell_type": "code",
   "execution_count": 17,
   "metadata": {},
   "outputs": [
    {
     "data": {
      "text/plain": [
       "['On',\n",
       " 'Wednesday',\n",
       " ',',\n",
       " 'Association',\n",
       " 'Computing',\n",
       " 'Machinery',\n",
       " ',',\n",
       " 'world',\n",
       " '’',\n",
       " 'largest',\n",
       " 'society',\n",
       " 'computing',\n",
       " 'professionals',\n",
       " ',',\n",
       " 'announced',\n",
       " 'Hinton',\n",
       " ',',\n",
       " 'LeCun',\n",
       " 'Bengio',\n",
       " 'year',\n",
       " '’',\n",
       " 'Turing',\n",
       " 'Award',\n",
       " 'work',\n",
       " 'neural',\n",
       " 'networks',\n",
       " '.',\n",
       " 'The',\n",
       " 'Turing',\n",
       " 'Award',\n",
       " ',',\n",
       " 'introduced',\n",
       " '1966',\n",
       " ',',\n",
       " 'often',\n",
       " 'called',\n",
       " 'Nobel',\n",
       " 'Prize',\n",
       " 'computing',\n",
       " ',',\n",
       " 'includes',\n",
       " '$',\n",
       " '1',\n",
       " 'million',\n",
       " 'prize',\n",
       " ',',\n",
       " 'three',\n",
       " 'scientists',\n",
       " 'share',\n",
       " '.']"
      ]
     },
     "execution_count": 17,
     "metadata": {},
     "output_type": "execute_result"
    }
   ],
   "source": [
    "filtered_words = [w for w in word_tk if not w in sw]\n",
    "filtered_words #non common english words in the txt"
   ]
  },
  {
   "cell_type": "code",
   "execution_count": null,
   "metadata": {},
   "outputs": [],
   "source": []
  },
  {
   "cell_type": "markdown",
   "metadata": {},
   "source": [
    "<h3>Stemming</h3>"
   ]
  },
  {
   "cell_type": "code",
   "execution_count": 18,
   "metadata": {
    "scrolled": true
   },
   "outputs": [],
   "source": [
    "from nltk.stem import PorterStemmer\n",
    "from nltk.tokenize import sent_tokenize, word_tokenize\n",
    "\n",
    "port_stem = PorterStemmer()"
   ]
  },
  {
   "cell_type": "code",
   "execution_count": 19,
   "metadata": {},
   "outputs": [
    {
     "name": "stdout",
     "output_type": "stream",
     "text": [
      "Filtered Sentence: \n",
      " ['On', 'Wednesday', ',', 'Association', 'Computing', 'Machinery', ',', 'world', '’', 'largest', 'society', 'computing', 'professionals', ',', 'announced', 'Hinton', ',', 'LeCun', 'Bengio', 'year', '’', 'Turing', 'Award', 'work', 'neural', 'networks', '.', 'The', 'Turing', 'Award', ',', 'introduced', '1966', ',', 'often', 'called', 'Nobel', 'Prize', 'computing', ',', 'includes', '$', '1', 'million', 'prize', ',', 'three', 'scientists', 'share', '.'] \n",
      "\n",
      "Stemmed Sentence: \n",
      " ['on', 'wednesday', ',', 'associ', 'comput', 'machineri', ',', 'world', '’', 'largest', 'societi', 'comput', 'profession', ',', 'announc', 'hinton', ',', 'lecun', 'bengio', 'year', '’', 'ture', 'award', 'work', 'neural', 'network', '.', 'the', 'ture', 'award', ',', 'introduc', '1966', ',', 'often', 'call', 'nobel', 'prize', 'comput', ',', 'includ', '$', '1', 'million', 'prize', ',', 'three', 'scientist', 'share', '.'] \n",
      "\n"
     ]
    }
   ],
   "source": [
    "stemmed_words = []\n",
    "\n",
    "for w in filtered_words:\n",
    "    stemmed_words.append(port_stem.stem(w))\n",
    "print(\"Filtered Sentence: \\n\", filtered_words, \"\\n\")\n",
    "print(\"Stemmed Sentence: \\n\", stemmed_words, \"\\n\")#takes the stem of each word"
   ]
  },
  {
   "cell_type": "markdown",
   "metadata": {},
   "source": [
    "# Lemmatizing"
   ]
  },
  {
   "cell_type": "code",
   "execution_count": 20,
   "metadata": {},
   "outputs": [
    {
     "name": "stderr",
     "output_type": "stream",
     "text": [
      "[nltk_data] Downloading package wordnet to\n",
      "[nltk_data]     C:\\Users\\wayla\\AppData\\Roaming\\nltk_data...\n"
     ]
    },
    {
     "data": {
      "text/plain": [
       "True"
      ]
     },
     "execution_count": 20,
     "metadata": {},
     "output_type": "execute_result"
    }
   ],
   "source": [
    "nltk.download(\"wordnet\")"
   ]
  },
  {
   "cell_type": "code",
   "execution_count": 21,
   "metadata": {},
   "outputs": [],
   "source": [
    "from nltk.stem.wordnet import WordNetLemmatizer\n",
    "\n",
    "lem = WordNetLemmatizer()\n",
    "\n",
    "from nltk.stem.porter import PorterStemmer\n",
    "stem = PorterStemmer()\n",
    "\n",
    "lemm_words = []\n",
    "for i in range(len(filtered_words)):\n",
    "    lemm_words.append(lem.lemmatize(filtered_words[i]))"
   ]
  },
  {
   "cell_type": "code",
   "execution_count": 22,
   "metadata": {},
   "outputs": [
    {
     "data": {
      "text/plain": [
       "['On',\n",
       " 'Wednesday',\n",
       " ',',\n",
       " 'Association',\n",
       " 'Computing',\n",
       " 'Machinery',\n",
       " ',',\n",
       " 'world',\n",
       " '’',\n",
       " 'largest',\n",
       " 'society',\n",
       " 'computing',\n",
       " 'professional',\n",
       " ',',\n",
       " 'announced',\n",
       " 'Hinton',\n",
       " ',',\n",
       " 'LeCun',\n",
       " 'Bengio',\n",
       " 'year',\n",
       " '’',\n",
       " 'Turing',\n",
       " 'Award',\n",
       " 'work',\n",
       " 'neural',\n",
       " 'network',\n",
       " '.',\n",
       " 'The',\n",
       " 'Turing',\n",
       " 'Award',\n",
       " ',',\n",
       " 'introduced',\n",
       " '1966',\n",
       " ',',\n",
       " 'often',\n",
       " 'called',\n",
       " 'Nobel',\n",
       " 'Prize',\n",
       " 'computing',\n",
       " ',',\n",
       " 'includes',\n",
       " '$',\n",
       " '1',\n",
       " 'million',\n",
       " 'prize',\n",
       " ',',\n",
       " 'three',\n",
       " 'scientist',\n",
       " 'share',\n",
       " '.']"
      ]
     },
     "execution_count": 22,
     "metadata": {},
     "output_type": "execute_result"
    }
   ],
   "source": [
    "lemm_words #notice plurals have gone back and some other things have changed"
   ]
  },
  {
   "cell_type": "markdown",
   "metadata": {},
   "source": [
    "<h3>Parts of Speech Tagging</h3>\n"
   ]
  },
  {
   "cell_type": "code",
   "execution_count": 23,
   "metadata": {},
   "outputs": [
    {
     "name": "stderr",
     "output_type": "stream",
     "text": [
      "[nltk_data] Downloading package averaged_perceptron_tagger to\n",
      "[nltk_data]     C:\\Users\\wayla\\AppData\\Roaming\\nltk_data...\n",
      "[nltk_data]   Unzipping taggers\\averaged_perceptron_tagger.zip.\n"
     ]
    },
    {
     "data": {
      "text/plain": [
       "True"
      ]
     },
     "execution_count": 23,
     "metadata": {},
     "output_type": "execute_result"
    }
   ],
   "source": [
    "nltk.download(\"averaged_perceptron_tagger\")"
   ]
  },
  {
   "cell_type": "code",
   "execution_count": 24,
   "metadata": {},
   "outputs": [
    {
     "data": {
      "text/plain": [
       "[('On', 'IN'),\n",
       " ('Wednesday', 'NNP'),\n",
       " (',', ','),\n",
       " ('the', 'DT'),\n",
       " ('Association', 'NNP'),\n",
       " ('for', 'IN'),\n",
       " ('Computing', 'VBG'),\n",
       " ('Machinery', 'NNP'),\n",
       " (',', ','),\n",
       " ('the', 'DT'),\n",
       " ('world', 'NN'),\n",
       " ('’', 'NNP'),\n",
       " ('s', 'RB'),\n",
       " ('largest', 'JJS'),\n",
       " ('society', 'NN'),\n",
       " ('of', 'IN'),\n",
       " ('computing', 'VBG'),\n",
       " ('professionals', 'NNS'),\n",
       " (',', ','),\n",
       " ('announced', 'VBD'),\n",
       " ('that', 'IN'),\n",
       " ('Hinton', 'NNP'),\n",
       " (',', ','),\n",
       " ('LeCun', 'NNP'),\n",
       " ('and', 'CC'),\n",
       " ('Bengio', 'NNP'),\n",
       " ('had', 'VBD'),\n",
       " ('won', 'VBN'),\n",
       " ('this', 'DT'),\n",
       " ('year', 'NN'),\n",
       " ('’', 'VBZ'),\n",
       " ('s', 'JJ'),\n",
       " ('Turing', 'NNP'),\n",
       " ('Award', 'NNP'),\n",
       " ('for', 'IN'),\n",
       " ('their', 'PRP$'),\n",
       " ('work', 'NN'),\n",
       " ('on', 'IN'),\n",
       " ('neural', 'JJ'),\n",
       " ('networks', 'NNS'),\n",
       " ('.', '.'),\n",
       " ('The', 'DT'),\n",
       " ('Turing', 'NNP'),\n",
       " ('Award', 'NNP'),\n",
       " (',', ','),\n",
       " ('which', 'WDT'),\n",
       " ('was', 'VBD'),\n",
       " ('introduced', 'VBN'),\n",
       " ('in', 'IN'),\n",
       " ('1966', 'CD'),\n",
       " (',', ','),\n",
       " ('is', 'VBZ'),\n",
       " ('often', 'RB'),\n",
       " ('called', 'VBN'),\n",
       " ('the', 'DT'),\n",
       " ('Nobel', 'NNP'),\n",
       " ('Prize', 'NNP'),\n",
       " ('of', 'IN'),\n",
       " ('computing', 'NN'),\n",
       " (',', ','),\n",
       " ('and', 'CC'),\n",
       " ('it', 'PRP'),\n",
       " ('includes', 'VBZ'),\n",
       " ('a', 'DT'),\n",
       " ('$', '$'),\n",
       " ('1', 'CD'),\n",
       " ('million', 'CD'),\n",
       " ('prize', 'NN'),\n",
       " (',', ','),\n",
       " ('which', 'WDT'),\n",
       " ('the', 'DT'),\n",
       " ('three', 'CD'),\n",
       " ('scientists', 'NNS'),\n",
       " ('will', 'MD'),\n",
       " ('share', 'NN'),\n",
       " ('.', '.')]"
      ]
     },
     "execution_count": 24,
     "metadata": {},
     "output_type": "execute_result"
    }
   ],
   "source": [
    "from nltk import pos_tag\n",
    "pos_tagged_words = pos_tag(word_tk)\n",
    "pos_tagged_words #created pair with part of speech/type of word"
   ]
  },
  {
   "cell_type": "markdown",
   "metadata": {},
   "source": [
    "<h3>Frequency Distribution Plots</h3>\n"
   ]
  },
  {
   "cell_type": "code",
   "execution_count": 30,
   "metadata": {},
   "outputs": [
    {
     "data": {
      "text/plain": [
       "['On',\n",
       " 'Wednesday',\n",
       " ',',\n",
       " 'the',\n",
       " 'Association',\n",
       " 'for',\n",
       " 'Computing',\n",
       " 'Machinery',\n",
       " ',',\n",
       " 'the',\n",
       " 'world',\n",
       " '’',\n",
       " 's',\n",
       " 'largest',\n",
       " 'society',\n",
       " 'of',\n",
       " 'computing',\n",
       " 'professionals',\n",
       " ',',\n",
       " 'announced',\n",
       " 'that',\n",
       " 'Hinton',\n",
       " ',',\n",
       " 'LeCun',\n",
       " 'and',\n",
       " 'Bengio',\n",
       " 'had',\n",
       " 'won',\n",
       " 'this',\n",
       " 'year',\n",
       " '’',\n",
       " 's',\n",
       " 'Turing',\n",
       " 'Award',\n",
       " 'for',\n",
       " 'their',\n",
       " 'work',\n",
       " 'on',\n",
       " 'neural',\n",
       " 'networks',\n",
       " '.',\n",
       " 'The',\n",
       " 'Turing',\n",
       " 'Award',\n",
       " ',',\n",
       " 'which',\n",
       " 'was',\n",
       " 'introduced',\n",
       " 'in',\n",
       " '1966',\n",
       " ',',\n",
       " 'is',\n",
       " 'often',\n",
       " 'called',\n",
       " 'the',\n",
       " 'Nobel',\n",
       " 'Prize',\n",
       " 'of',\n",
       " 'computing',\n",
       " ',',\n",
       " 'and',\n",
       " 'it',\n",
       " 'includes',\n",
       " 'a',\n",
       " '$',\n",
       " '1',\n",
       " 'million',\n",
       " 'prize',\n",
       " ',',\n",
       " 'which',\n",
       " 'the',\n",
       " 'three',\n",
       " 'scientists',\n",
       " 'will',\n",
       " 'share',\n",
       " '.']"
      ]
     },
     "execution_count": 30,
     "metadata": {},
     "output_type": "execute_result"
    }
   ],
   "source": [
    "word_tk"
   ]
  },
  {
   "cell_type": "code",
   "execution_count": 25,
   "metadata": {},
   "outputs": [
    {
     "data": {
      "text/plain": [
       "FreqDist({',': 8, 'the': 4, 'for': 2, '’': 2, 's': 2, 'of': 2, 'computing': 2, 'and': 2, 'Turing': 2, 'Award': 2, ...})"
      ]
     },
     "execution_count": 25,
     "metadata": {},
     "output_type": "execute_result"
    }
   ],
   "source": [
    "from nltk.probability import FreqDist\n",
    "fd = FreqDist(word_tk)\n",
    "fd #word with amount of times"
   ]
  },
  {
   "cell_type": "code",
   "execution_count": 28,
   "metadata": {},
   "outputs": [
    {
     "data": {
      "image/png": "[encoded data removed]",
      "text/plain": [
       "<Figure size 640x480 with 1 Axes>"
      ]
     },
     "metadata": {},
     "output_type": "display_data"
    },
    {
     "data": {
      "text/plain": [
       "<Axes: xlabel='Samples', ylabel='Counts'>"
      ]
     },
     "execution_count": 28,
     "metadata": {},
     "output_type": "execute_result"
    }
   ],
   "source": [
    "fd.plot(30, cumulative = False)#30 elements in the list, \"the is the most common word\""
   ]
  },
  {
   "cell_type": "code",
   "execution_count": 31,
   "metadata": {},
   "outputs": [
    {
     "data": {
      "text/plain": [
       "'On Wednesday, the Association for Computing Machinery, the world’s largest society of computing professionals, announced that Hinton, LeCun and Bengio had won this year’s Turing Award for their work on neural networks. The Turing Award, which was introduced in 1966, is often called the Nobel Prize of computing, and it includes a $1 million prize, which the three scientists will share.'"
      ]
     },
     "execution_count": 31,
     "metadata": {},
     "output_type": "execute_result"
    }
   ],
   "source": [
    "text"
   ]
  },
  {
   "cell_type": "code",
   "execution_count": 29,
   "metadata": {},
   "outputs": [
    {
     "data": {
      "image/png": "[encoded data removed]",
      "text/plain": [
       "<Figure size 640x480 with 1 Axes>"
      ]
     },
     "metadata": {},
     "output_type": "display_data"
    },
    {
     "data": {
      "text/plain": [
       "<Axes: xlabel='Samples', ylabel='Counts'>"
      ]
     },
     "execution_count": 29,
     "metadata": {},
     "output_type": "execute_result"
    }
   ],
   "source": [
    "fd_alpha = FreqDist(text)\n",
    "fd_alpha.plot(30, cumulative=False)"
   ]
  },
  {
   "cell_type": "code",
   "execution_count": null,
   "metadata": {},
   "outputs": [],
   "source": []
  }
 ],
 "metadata": {
  "kernelspec": {
   "display_name": "Python 3 (ipykernel)",
   "language": "python",
   "name": "python3"
  },
  "language_info": {
   "codemirror_mode": {
    "name": "ipython",
    "version": 3
   },
   "file_extension": ".py",
   "mimetype": "text/x-python",
   "name": "python",
   "nbconvert_exporter": "python",
   "pygments_lexer": "ipython3",
   "version": "3.11.5"
  }
 },
 "nbformat": 4,
 "nbformat_minor": 2
}
